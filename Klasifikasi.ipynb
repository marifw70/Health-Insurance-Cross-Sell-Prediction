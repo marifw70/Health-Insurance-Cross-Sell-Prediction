{
 "cells": [
  {
   "cell_type": "markdown",
   "metadata": {},
   "source": [
    "# Health Insurance Cross Sell Prediction\n",
    "\n",
    "## Overview \n",
    "\n",
    "The client is an Insurance company that has provided Health Insurance to its customers now they need your help in building a model to predict whether the policyholders (customers) from past year will also be interested in Vehicle Insurance provided by the company.\n",
    "\n",
    "An insurance policy is an arrangement by which a company undertakes to provide a guarantee of compensation for specified loss, damage, illness, or death in return for the payment of a specified premium. A premium is a sum of money that the customer needs to pay regularly to an insurance company for this guarantee.\n",
    "\n",
    "## Problems\n",
    "\n",
    "Sales of vehicle insurance are less than optimal, making clients need help from us as Data Scientists to see the most suitable market for buying this insurance. \n",
    "\n",
    "## Goals\n",
    "Building a model to predict whether a customer would be interested in Vehicle Insurance is extremely helpful for the company because it can then accordingly plan its communication strategy to reach out to those customers and optimise its business model and revenue.\n",
    "\n",
    "##  Data Explanation\n",
    "1. id =   Unique ID for the customer\n",
    "2. Gender =  Gender of the customer\n",
    "3. Age = Age of the customer\n",
    "4. Driving_License = 0 : Customer does not have DL, 1 : Customer already has DL\n",
    "5. Region_Code = Unique code for the region of the customer\n",
    "6. Previously_Insured = 1 : Customer already has Vehicle Insurance, 0 : Customer doesn't have Vehicle Insurance\n",
    "7. Vehicle_Age = Age of the Vehicle\n",
    "8. Vehicle_Damage = 1 : Customer got his/her vehicle damaged in the past. 0 : Customer didn't get his/her vehicle damaged in the past.\n",
    "9. Annual_Premium = The amount customer needs to pay as premium in the year\n",
    "10. PolicySalesChannel = Anonymized Code for the channel of outreaching to the customer ie. Different Agents, Over Mail, Over Phone, In Person, etc.\n",
    "11. Vintage = Number of Days, Customer has been associated with the company\n",
    "12. Response = 1 : Customer is interested, 0 : Customer is not interested\n",
    "\n"
   ]
  },
  {
   "cell_type": "markdown",
   "metadata": {},
   "source": [
    "### 1. Import Common Package"
   ]
  },
  {
   "cell_type": "code",
   "execution_count": 2,
   "metadata": {},
   "outputs": [],
   "source": [
    "import  numpy as np\n",
    "import pandas as pd\n",
    "import seaborn as sns\n",
    "import matplotlib.pyplot as plt\n",
    "import sidetable\n",
    "\n",
    "%matplotlib inline"
   ]
  },
  {
   "cell_type": "code",
   "execution_count": 3,
   "metadata": {},
   "outputs": [],
   "source": [
    "import warnings\n",
    "warnings.filterwarnings('ignore')"
   ]
  },
  {
   "cell_type": "markdown",
   "metadata": {},
   "source": [
    "### 2. Import Data"
   ]
  },
  {
   "cell_type": "code",
   "execution_count": 4,
   "metadata": {},
   "outputs": [],
   "source": [
    "df = pd.read_csv('train.csv')"
   ]
  },
  {
   "cell_type": "code",
   "execution_count": 5,
   "metadata": {},
   "outputs": [
    {
     "data": {
      "text/html": [
       "<div>\n",
       "<style scoped>\n",
       "    .dataframe tbody tr th:only-of-type {\n",
       "        vertical-align: middle;\n",
       "    }\n",
       "\n",
       "    .dataframe tbody tr th {\n",
       "        vertical-align: top;\n",
       "    }\n",
       "\n",
       "    .dataframe thead th {\n",
       "        text-align: right;\n",
       "    }\n",
       "</style>\n",
       "<table border=\"1\" class=\"dataframe\">\n",
       "  <thead>\n",
       "    <tr style=\"text-align: right;\">\n",
       "      <th></th>\n",
       "      <th>id</th>\n",
       "      <th>Gender</th>\n",
       "      <th>Age</th>\n",
       "      <th>Driving_License</th>\n",
       "      <th>Region_Code</th>\n",
       "      <th>Previously_Insured</th>\n",
       "      <th>Vehicle_Age</th>\n",
       "      <th>Vehicle_Damage</th>\n",
       "      <th>Annual_Premium</th>\n",
       "      <th>Policy_Sales_Channel</th>\n",
       "      <th>Vintage</th>\n",
       "      <th>Response</th>\n",
       "    </tr>\n",
       "  </thead>\n",
       "  <tbody>\n",
       "    <tr>\n",
       "      <th>0</th>\n",
       "      <td>1</td>\n",
       "      <td>Male</td>\n",
       "      <td>44</td>\n",
       "      <td>1</td>\n",
       "      <td>28.0</td>\n",
       "      <td>0</td>\n",
       "      <td>&gt; 2 Years</td>\n",
       "      <td>Yes</td>\n",
       "      <td>40454.0</td>\n",
       "      <td>26.0</td>\n",
       "      <td>217</td>\n",
       "      <td>1</td>\n",
       "    </tr>\n",
       "    <tr>\n",
       "      <th>1</th>\n",
       "      <td>2</td>\n",
       "      <td>Male</td>\n",
       "      <td>76</td>\n",
       "      <td>1</td>\n",
       "      <td>3.0</td>\n",
       "      <td>0</td>\n",
       "      <td>1-2 Year</td>\n",
       "      <td>No</td>\n",
       "      <td>33536.0</td>\n",
       "      <td>26.0</td>\n",
       "      <td>183</td>\n",
       "      <td>0</td>\n",
       "    </tr>\n",
       "    <tr>\n",
       "      <th>2</th>\n",
       "      <td>3</td>\n",
       "      <td>Male</td>\n",
       "      <td>47</td>\n",
       "      <td>1</td>\n",
       "      <td>28.0</td>\n",
       "      <td>0</td>\n",
       "      <td>&gt; 2 Years</td>\n",
       "      <td>Yes</td>\n",
       "      <td>38294.0</td>\n",
       "      <td>26.0</td>\n",
       "      <td>27</td>\n",
       "      <td>1</td>\n",
       "    </tr>\n",
       "    <tr>\n",
       "      <th>3</th>\n",
       "      <td>4</td>\n",
       "      <td>Male</td>\n",
       "      <td>21</td>\n",
       "      <td>1</td>\n",
       "      <td>11.0</td>\n",
       "      <td>1</td>\n",
       "      <td>&lt; 1 Year</td>\n",
       "      <td>No</td>\n",
       "      <td>28619.0</td>\n",
       "      <td>152.0</td>\n",
       "      <td>203</td>\n",
       "      <td>0</td>\n",
       "    </tr>\n",
       "    <tr>\n",
       "      <th>4</th>\n",
       "      <td>5</td>\n",
       "      <td>Female</td>\n",
       "      <td>29</td>\n",
       "      <td>1</td>\n",
       "      <td>41.0</td>\n",
       "      <td>1</td>\n",
       "      <td>&lt; 1 Year</td>\n",
       "      <td>No</td>\n",
       "      <td>27496.0</td>\n",
       "      <td>152.0</td>\n",
       "      <td>39</td>\n",
       "      <td>0</td>\n",
       "    </tr>\n",
       "  </tbody>\n",
       "</table>\n",
       "</div>"
      ],
      "text/plain": [
       "   id  Gender  Age  Driving_License  Region_Code  Previously_Insured  \\\n",
       "0   1    Male   44                1         28.0                   0   \n",
       "1   2    Male   76                1          3.0                   0   \n",
       "2   3    Male   47                1         28.0                   0   \n",
       "3   4    Male   21                1         11.0                   1   \n",
       "4   5  Female   29                1         41.0                   1   \n",
       "\n",
       "  Vehicle_Age Vehicle_Damage  Annual_Premium  Policy_Sales_Channel  Vintage  \\\n",
       "0   > 2 Years            Yes         40454.0                  26.0      217   \n",
       "1    1-2 Year             No         33536.0                  26.0      183   \n",
       "2   > 2 Years            Yes         38294.0                  26.0       27   \n",
       "3    < 1 Year             No         28619.0                 152.0      203   \n",
       "4    < 1 Year             No         27496.0                 152.0       39   \n",
       "\n",
       "   Response  \n",
       "0         1  \n",
       "1         0  \n",
       "2         1  \n",
       "3         0  \n",
       "4         0  "
      ]
     },
     "execution_count": 5,
     "metadata": {},
     "output_type": "execute_result"
    }
   ],
   "source": [
    "df.head()"
   ]
  },
  {
   "cell_type": "markdown",
   "metadata": {},
   "source": [
    "### 3. Data Exploration"
   ]
  },
  {
   "cell_type": "code",
   "execution_count": 6,
   "metadata": {},
   "outputs": [
    {
     "name": "stdout",
     "output_type": "stream",
     "text": [
      "<class 'pandas.core.frame.DataFrame'>\n",
      "RangeIndex: 381109 entries, 0 to 381108\n",
      "Data columns (total 12 columns):\n",
      " #   Column                Non-Null Count   Dtype  \n",
      "---  ------                --------------   -----  \n",
      " 0   id                    381109 non-null  int64  \n",
      " 1   Gender                381109 non-null  object \n",
      " 2   Age                   381109 non-null  int64  \n",
      " 3   Driving_License       381109 non-null  int64  \n",
      " 4   Region_Code           381109 non-null  float64\n",
      " 5   Previously_Insured    381109 non-null  int64  \n",
      " 6   Vehicle_Age           381109 non-null  object \n",
      " 7   Vehicle_Damage        381109 non-null  object \n",
      " 8   Annual_Premium        381109 non-null  float64\n",
      " 9   Policy_Sales_Channel  381109 non-null  float64\n",
      " 10  Vintage               381109 non-null  int64  \n",
      " 11  Response              381109 non-null  int64  \n",
      "dtypes: float64(3), int64(6), object(3)\n",
      "memory usage: 34.9+ MB\n"
     ]
    }
   ],
   "source": [
    "df.info()"
   ]
  },
  {
   "cell_type": "code",
   "execution_count": 7,
   "metadata": {},
   "outputs": [
    {
     "data": {
      "text/plain": [
       "id                      0\n",
       "Gender                  0\n",
       "Age                     0\n",
       "Driving_License         0\n",
       "Region_Code             0\n",
       "Previously_Insured      0\n",
       "Vehicle_Age             0\n",
       "Vehicle_Damage          0\n",
       "Annual_Premium          0\n",
       "Policy_Sales_Channel    0\n",
       "Vintage                 0\n",
       "Response                0\n",
       "dtype: int64"
      ]
     },
     "execution_count": 7,
     "metadata": {},
     "output_type": "execute_result"
    }
   ],
   "source": [
    "df.isna().sum()"
   ]
  },
  {
   "cell_type": "code",
   "execution_count": 8,
   "metadata": {},
   "outputs": [
    {
     "data": {
      "text/html": [
       "<div>\n",
       "<style scoped>\n",
       "    .dataframe tbody tr th:only-of-type {\n",
       "        vertical-align: middle;\n",
       "    }\n",
       "\n",
       "    .dataframe tbody tr th {\n",
       "        vertical-align: top;\n",
       "    }\n",
       "\n",
       "    .dataframe thead th {\n",
       "        text-align: right;\n",
       "    }\n",
       "</style>\n",
       "<table border=\"1\" class=\"dataframe\">\n",
       "  <thead>\n",
       "    <tr style=\"text-align: right;\">\n",
       "      <th></th>\n",
       "      <th>Gender</th>\n",
       "      <th>Age</th>\n",
       "      <th>Driving_License</th>\n",
       "      <th>Region_Code</th>\n",
       "      <th>Previously_Insured</th>\n",
       "      <th>Vehicle_Age</th>\n",
       "      <th>Vehicle_Damage</th>\n",
       "      <th>Annual_Premium</th>\n",
       "      <th>Policy_Sales_Channel</th>\n",
       "      <th>Vintage</th>\n",
       "      <th>Response</th>\n",
       "    </tr>\n",
       "  </thead>\n",
       "  <tbody>\n",
       "    <tr>\n",
       "      <th>0</th>\n",
       "      <td>Male</td>\n",
       "      <td>44</td>\n",
       "      <td>1</td>\n",
       "      <td>28.0</td>\n",
       "      <td>0</td>\n",
       "      <td>&gt; 2 Years</td>\n",
       "      <td>Yes</td>\n",
       "      <td>40454.0</td>\n",
       "      <td>26.0</td>\n",
       "      <td>217</td>\n",
       "      <td>1</td>\n",
       "    </tr>\n",
       "    <tr>\n",
       "      <th>1</th>\n",
       "      <td>Male</td>\n",
       "      <td>76</td>\n",
       "      <td>1</td>\n",
       "      <td>3.0</td>\n",
       "      <td>0</td>\n",
       "      <td>1-2 Year</td>\n",
       "      <td>No</td>\n",
       "      <td>33536.0</td>\n",
       "      <td>26.0</td>\n",
       "      <td>183</td>\n",
       "      <td>0</td>\n",
       "    </tr>\n",
       "    <tr>\n",
       "      <th>2</th>\n",
       "      <td>Male</td>\n",
       "      <td>47</td>\n",
       "      <td>1</td>\n",
       "      <td>28.0</td>\n",
       "      <td>0</td>\n",
       "      <td>&gt; 2 Years</td>\n",
       "      <td>Yes</td>\n",
       "      <td>38294.0</td>\n",
       "      <td>26.0</td>\n",
       "      <td>27</td>\n",
       "      <td>1</td>\n",
       "    </tr>\n",
       "    <tr>\n",
       "      <th>3</th>\n",
       "      <td>Male</td>\n",
       "      <td>21</td>\n",
       "      <td>1</td>\n",
       "      <td>11.0</td>\n",
       "      <td>1</td>\n",
       "      <td>&lt; 1 Year</td>\n",
       "      <td>No</td>\n",
       "      <td>28619.0</td>\n",
       "      <td>152.0</td>\n",
       "      <td>203</td>\n",
       "      <td>0</td>\n",
       "    </tr>\n",
       "    <tr>\n",
       "      <th>4</th>\n",
       "      <td>Female</td>\n",
       "      <td>29</td>\n",
       "      <td>1</td>\n",
       "      <td>41.0</td>\n",
       "      <td>1</td>\n",
       "      <td>&lt; 1 Year</td>\n",
       "      <td>No</td>\n",
       "      <td>27496.0</td>\n",
       "      <td>152.0</td>\n",
       "      <td>39</td>\n",
       "      <td>0</td>\n",
       "    </tr>\n",
       "    <tr>\n",
       "      <th>...</th>\n",
       "      <td>...</td>\n",
       "      <td>...</td>\n",
       "      <td>...</td>\n",
       "      <td>...</td>\n",
       "      <td>...</td>\n",
       "      <td>...</td>\n",
       "      <td>...</td>\n",
       "      <td>...</td>\n",
       "      <td>...</td>\n",
       "      <td>...</td>\n",
       "      <td>...</td>\n",
       "    </tr>\n",
       "    <tr>\n",
       "      <th>381104</th>\n",
       "      <td>Male</td>\n",
       "      <td>74</td>\n",
       "      <td>1</td>\n",
       "      <td>26.0</td>\n",
       "      <td>1</td>\n",
       "      <td>1-2 Year</td>\n",
       "      <td>No</td>\n",
       "      <td>30170.0</td>\n",
       "      <td>26.0</td>\n",
       "      <td>88</td>\n",
       "      <td>0</td>\n",
       "    </tr>\n",
       "    <tr>\n",
       "      <th>381105</th>\n",
       "      <td>Male</td>\n",
       "      <td>30</td>\n",
       "      <td>1</td>\n",
       "      <td>37.0</td>\n",
       "      <td>1</td>\n",
       "      <td>&lt; 1 Year</td>\n",
       "      <td>No</td>\n",
       "      <td>40016.0</td>\n",
       "      <td>152.0</td>\n",
       "      <td>131</td>\n",
       "      <td>0</td>\n",
       "    </tr>\n",
       "    <tr>\n",
       "      <th>381106</th>\n",
       "      <td>Male</td>\n",
       "      <td>21</td>\n",
       "      <td>1</td>\n",
       "      <td>30.0</td>\n",
       "      <td>1</td>\n",
       "      <td>&lt; 1 Year</td>\n",
       "      <td>No</td>\n",
       "      <td>35118.0</td>\n",
       "      <td>160.0</td>\n",
       "      <td>161</td>\n",
       "      <td>0</td>\n",
       "    </tr>\n",
       "    <tr>\n",
       "      <th>381107</th>\n",
       "      <td>Female</td>\n",
       "      <td>68</td>\n",
       "      <td>1</td>\n",
       "      <td>14.0</td>\n",
       "      <td>0</td>\n",
       "      <td>&gt; 2 Years</td>\n",
       "      <td>Yes</td>\n",
       "      <td>44617.0</td>\n",
       "      <td>124.0</td>\n",
       "      <td>74</td>\n",
       "      <td>0</td>\n",
       "    </tr>\n",
       "    <tr>\n",
       "      <th>381108</th>\n",
       "      <td>Male</td>\n",
       "      <td>46</td>\n",
       "      <td>1</td>\n",
       "      <td>29.0</td>\n",
       "      <td>0</td>\n",
       "      <td>1-2 Year</td>\n",
       "      <td>No</td>\n",
       "      <td>41777.0</td>\n",
       "      <td>26.0</td>\n",
       "      <td>237</td>\n",
       "      <td>0</td>\n",
       "    </tr>\n",
       "  </tbody>\n",
       "</table>\n",
       "<p>381109 rows × 11 columns</p>\n",
       "</div>"
      ],
      "text/plain": [
       "        Gender  Age  Driving_License  Region_Code  Previously_Insured  \\\n",
       "0         Male   44                1         28.0                   0   \n",
       "1         Male   76                1          3.0                   0   \n",
       "2         Male   47                1         28.0                   0   \n",
       "3         Male   21                1         11.0                   1   \n",
       "4       Female   29                1         41.0                   1   \n",
       "...        ...  ...              ...          ...                 ...   \n",
       "381104    Male   74                1         26.0                   1   \n",
       "381105    Male   30                1         37.0                   1   \n",
       "381106    Male   21                1         30.0                   1   \n",
       "381107  Female   68                1         14.0                   0   \n",
       "381108    Male   46                1         29.0                   0   \n",
       "\n",
       "       Vehicle_Age Vehicle_Damage  Annual_Premium  Policy_Sales_Channel  \\\n",
       "0        > 2 Years            Yes         40454.0                  26.0   \n",
       "1         1-2 Year             No         33536.0                  26.0   \n",
       "2        > 2 Years            Yes         38294.0                  26.0   \n",
       "3         < 1 Year             No         28619.0                 152.0   \n",
       "4         < 1 Year             No         27496.0                 152.0   \n",
       "...            ...            ...             ...                   ...   \n",
       "381104    1-2 Year             No         30170.0                  26.0   \n",
       "381105    < 1 Year             No         40016.0                 152.0   \n",
       "381106    < 1 Year             No         35118.0                 160.0   \n",
       "381107   > 2 Years            Yes         44617.0                 124.0   \n",
       "381108    1-2 Year             No         41777.0                  26.0   \n",
       "\n",
       "        Vintage  Response  \n",
       "0           217         1  \n",
       "1           183         0  \n",
       "2            27         1  \n",
       "3           203         0  \n",
       "4            39         0  \n",
       "...         ...       ...  \n",
       "381104       88         0  \n",
       "381105      131         0  \n",
       "381106      161         0  \n",
       "381107       74         0  \n",
       "381108      237         0  \n",
       "\n",
       "[381109 rows x 11 columns]"
      ]
     },
     "execution_count": 8,
     "metadata": {},
     "output_type": "execute_result"
    }
   ],
   "source": [
    "df.drop(columns='id', inplace=True)\n",
    "df"
   ]
  },
  {
   "cell_type": "markdown",
   "metadata": {},
   "source": [
    "### 4. Untuk Mengecek Data Balance atau Imbalance"
   ]
  },
  {
   "cell_type": "code",
   "execution_count": 9,
   "metadata": {},
   "outputs": [
    {
     "data": {
      "text/html": [
       "<div>\n",
       "<style scoped>\n",
       "    .dataframe tbody tr th:only-of-type {\n",
       "        vertical-align: middle;\n",
       "    }\n",
       "\n",
       "    .dataframe tbody tr th {\n",
       "        vertical-align: top;\n",
       "    }\n",
       "\n",
       "    .dataframe thead th {\n",
       "        text-align: right;\n",
       "    }\n",
       "</style>\n",
       "<table border=\"1\" class=\"dataframe\">\n",
       "  <thead>\n",
       "    <tr style=\"text-align: right;\">\n",
       "      <th>col_0</th>\n",
       "      <th>Jumlah</th>\n",
       "    </tr>\n",
       "    <tr>\n",
       "      <th>Response</th>\n",
       "      <th></th>\n",
       "    </tr>\n",
       "  </thead>\n",
       "  <tbody>\n",
       "    <tr>\n",
       "      <th>0</th>\n",
       "      <td>87.74</td>\n",
       "    </tr>\n",
       "    <tr>\n",
       "      <th>1</th>\n",
       "      <td>12.26</td>\n",
       "    </tr>\n",
       "  </tbody>\n",
       "</table>\n",
       "</div>"
      ],
      "text/plain": [
       "col_0     Jumlah\n",
       "Response        \n",
       "0          87.74\n",
       "1          12.26"
      ]
     },
     "execution_count": 9,
     "metadata": {},
     "output_type": "execute_result"
    }
   ],
   "source": [
    "(pd.crosstab(index=df['Response'], columns='Jumlah', normalize=True)*100).round(2)"
   ]
  },
  {
   "cell_type": "markdown",
   "metadata": {},
   "source": [
    "- Terdapat 87.74% Orang tidak tertarik Asuransi\n",
    "- Terdapat 12.26% Orang tertarik Asuransi\n"
   ]
  },
  {
   "cell_type": "code",
   "execution_count": 10,
   "metadata": {},
   "outputs": [
    {
     "data": {
      "text/html": [
       "<div>\n",
       "<style scoped>\n",
       "    .dataframe tbody tr th:only-of-type {\n",
       "        vertical-align: middle;\n",
       "    }\n",
       "\n",
       "    .dataframe tbody tr th {\n",
       "        vertical-align: top;\n",
       "    }\n",
       "\n",
       "    .dataframe thead th {\n",
       "        text-align: right;\n",
       "    }\n",
       "</style>\n",
       "<table border=\"1\" class=\"dataframe\">\n",
       "  <thead>\n",
       "    <tr style=\"text-align: right;\">\n",
       "      <th></th>\n",
       "      <th>count</th>\n",
       "      <th>mean</th>\n",
       "      <th>std</th>\n",
       "      <th>min</th>\n",
       "      <th>25%</th>\n",
       "      <th>50%</th>\n",
       "      <th>75%</th>\n",
       "      <th>max</th>\n",
       "    </tr>\n",
       "  </thead>\n",
       "  <tbody>\n",
       "    <tr>\n",
       "      <th>Age</th>\n",
       "      <td>381109.0</td>\n",
       "      <td>38.822584</td>\n",
       "      <td>15.511611</td>\n",
       "      <td>20.0</td>\n",
       "      <td>25.0</td>\n",
       "      <td>36.0</td>\n",
       "      <td>49.0</td>\n",
       "      <td>85.0</td>\n",
       "    </tr>\n",
       "    <tr>\n",
       "      <th>Driving_License</th>\n",
       "      <td>381109.0</td>\n",
       "      <td>0.997869</td>\n",
       "      <td>0.046110</td>\n",
       "      <td>0.0</td>\n",
       "      <td>1.0</td>\n",
       "      <td>1.0</td>\n",
       "      <td>1.0</td>\n",
       "      <td>1.0</td>\n",
       "    </tr>\n",
       "    <tr>\n",
       "      <th>Region_Code</th>\n",
       "      <td>381109.0</td>\n",
       "      <td>26.388807</td>\n",
       "      <td>13.229888</td>\n",
       "      <td>0.0</td>\n",
       "      <td>15.0</td>\n",
       "      <td>28.0</td>\n",
       "      <td>35.0</td>\n",
       "      <td>52.0</td>\n",
       "    </tr>\n",
       "    <tr>\n",
       "      <th>Previously_Insured</th>\n",
       "      <td>381109.0</td>\n",
       "      <td>0.458210</td>\n",
       "      <td>0.498251</td>\n",
       "      <td>0.0</td>\n",
       "      <td>0.0</td>\n",
       "      <td>0.0</td>\n",
       "      <td>1.0</td>\n",
       "      <td>1.0</td>\n",
       "    </tr>\n",
       "    <tr>\n",
       "      <th>Annual_Premium</th>\n",
       "      <td>381109.0</td>\n",
       "      <td>30564.389581</td>\n",
       "      <td>17213.155057</td>\n",
       "      <td>2630.0</td>\n",
       "      <td>24405.0</td>\n",
       "      <td>31669.0</td>\n",
       "      <td>39400.0</td>\n",
       "      <td>540165.0</td>\n",
       "    </tr>\n",
       "    <tr>\n",
       "      <th>Policy_Sales_Channel</th>\n",
       "      <td>381109.0</td>\n",
       "      <td>112.034295</td>\n",
       "      <td>54.203995</td>\n",
       "      <td>1.0</td>\n",
       "      <td>29.0</td>\n",
       "      <td>133.0</td>\n",
       "      <td>152.0</td>\n",
       "      <td>163.0</td>\n",
       "    </tr>\n",
       "    <tr>\n",
       "      <th>Vintage</th>\n",
       "      <td>381109.0</td>\n",
       "      <td>154.347397</td>\n",
       "      <td>83.671304</td>\n",
       "      <td>10.0</td>\n",
       "      <td>82.0</td>\n",
       "      <td>154.0</td>\n",
       "      <td>227.0</td>\n",
       "      <td>299.0</td>\n",
       "    </tr>\n",
       "    <tr>\n",
       "      <th>Response</th>\n",
       "      <td>381109.0</td>\n",
       "      <td>0.122563</td>\n",
       "      <td>0.327936</td>\n",
       "      <td>0.0</td>\n",
       "      <td>0.0</td>\n",
       "      <td>0.0</td>\n",
       "      <td>0.0</td>\n",
       "      <td>1.0</td>\n",
       "    </tr>\n",
       "  </tbody>\n",
       "</table>\n",
       "</div>"
      ],
      "text/plain": [
       "                         count          mean           std     min      25%  \\\n",
       "Age                   381109.0     38.822584     15.511611    20.0     25.0   \n",
       "Driving_License       381109.0      0.997869      0.046110     0.0      1.0   \n",
       "Region_Code           381109.0     26.388807     13.229888     0.0     15.0   \n",
       "Previously_Insured    381109.0      0.458210      0.498251     0.0      0.0   \n",
       "Annual_Premium        381109.0  30564.389581  17213.155057  2630.0  24405.0   \n",
       "Policy_Sales_Channel  381109.0    112.034295     54.203995     1.0     29.0   \n",
       "Vintage               381109.0    154.347397     83.671304    10.0     82.0   \n",
       "Response              381109.0      0.122563      0.327936     0.0      0.0   \n",
       "\n",
       "                          50%      75%       max  \n",
       "Age                      36.0     49.0      85.0  \n",
       "Driving_License           1.0      1.0       1.0  \n",
       "Region_Code              28.0     35.0      52.0  \n",
       "Previously_Insured        0.0      1.0       1.0  \n",
       "Annual_Premium        31669.0  39400.0  540165.0  \n",
       "Policy_Sales_Channel    133.0    152.0     163.0  \n",
       "Vintage                 154.0    227.0     299.0  \n",
       "Response                  0.0      0.0       1.0  "
      ]
     },
     "execution_count": 10,
     "metadata": {},
     "output_type": "execute_result"
    }
   ],
   "source": [
    "df.describe().T"
   ]
  },
  {
   "cell_type": "code",
   "execution_count": 11,
   "metadata": {},
   "outputs": [
    {
     "data": {
      "text/html": [
       "<div>\n",
       "<style scoped>\n",
       "    .dataframe tbody tr th:only-of-type {\n",
       "        vertical-align: middle;\n",
       "    }\n",
       "\n",
       "    .dataframe tbody tr th {\n",
       "        vertical-align: top;\n",
       "    }\n",
       "\n",
       "    .dataframe thead th {\n",
       "        text-align: right;\n",
       "    }\n",
       "</style>\n",
       "<table border=\"1\" class=\"dataframe\">\n",
       "  <thead>\n",
       "    <tr style=\"text-align: right;\">\n",
       "      <th></th>\n",
       "      <th>Gender</th>\n",
       "      <th>Vehicle_Age</th>\n",
       "      <th>Vehicle_Damage</th>\n",
       "    </tr>\n",
       "  </thead>\n",
       "  <tbody>\n",
       "    <tr>\n",
       "      <th>count</th>\n",
       "      <td>381109</td>\n",
       "      <td>381109</td>\n",
       "      <td>381109</td>\n",
       "    </tr>\n",
       "    <tr>\n",
       "      <th>unique</th>\n",
       "      <td>2</td>\n",
       "      <td>3</td>\n",
       "      <td>2</td>\n",
       "    </tr>\n",
       "    <tr>\n",
       "      <th>top</th>\n",
       "      <td>Male</td>\n",
       "      <td>1-2 Year</td>\n",
       "      <td>Yes</td>\n",
       "    </tr>\n",
       "    <tr>\n",
       "      <th>freq</th>\n",
       "      <td>206089</td>\n",
       "      <td>200316</td>\n",
       "      <td>192413</td>\n",
       "    </tr>\n",
       "  </tbody>\n",
       "</table>\n",
       "</div>"
      ],
      "text/plain": [
       "        Gender Vehicle_Age Vehicle_Damage\n",
       "count   381109      381109         381109\n",
       "unique       2           3              2\n",
       "top       Male    1-2 Year            Yes\n",
       "freq    206089      200316         192413"
      ]
     },
     "execution_count": 11,
     "metadata": {},
     "output_type": "execute_result"
    }
   ],
   "source": [
    "df.describe(include='O')"
   ]
  },
  {
   "cell_type": "code",
   "execution_count": 12,
   "metadata": {},
   "outputs": [],
   "source": [
    "insuranceDesc = []\n",
    "\n",
    "for i in df.columns:\n",
    "    insuranceDesc.append([\n",
    "        i,\n",
    "        df[i].dtypes,\n",
    "        df[i].isna().sum(),\n",
    "        (((df[i].isna().sum()) / len(df)) * 100).round(2),\n",
    "        df[i].nunique(),\n",
    "        df[i].drop_duplicates().sample(2).values\n",
    "    ])"
   ]
  },
  {
   "cell_type": "code",
   "execution_count": 13,
   "metadata": {},
   "outputs": [
    {
     "data": {
      "text/html": [
       "<div>\n",
       "<style scoped>\n",
       "    .dataframe tbody tr th:only-of-type {\n",
       "        vertical-align: middle;\n",
       "    }\n",
       "\n",
       "    .dataframe tbody tr th {\n",
       "        vertical-align: top;\n",
       "    }\n",
       "\n",
       "    .dataframe thead th {\n",
       "        text-align: right;\n",
       "    }\n",
       "</style>\n",
       "<table border=\"1\" class=\"dataframe\">\n",
       "  <thead>\n",
       "    <tr style=\"text-align: right;\">\n",
       "      <th></th>\n",
       "      <th>Data Feature</th>\n",
       "      <th>Data Types</th>\n",
       "      <th>Null</th>\n",
       "      <th>Null Pct</th>\n",
       "      <th>Unique</th>\n",
       "      <th>Unique Sample</th>\n",
       "    </tr>\n",
       "  </thead>\n",
       "  <tbody>\n",
       "    <tr>\n",
       "      <th>0</th>\n",
       "      <td>Gender</td>\n",
       "      <td>object</td>\n",
       "      <td>0</td>\n",
       "      <td>0.0</td>\n",
       "      <td>2</td>\n",
       "      <td>[Female, Male]</td>\n",
       "    </tr>\n",
       "    <tr>\n",
       "      <th>1</th>\n",
       "      <td>Age</td>\n",
       "      <td>int64</td>\n",
       "      <td>0</td>\n",
       "      <td>0.0</td>\n",
       "      <td>66</td>\n",
       "      <td>[66, 26]</td>\n",
       "    </tr>\n",
       "    <tr>\n",
       "      <th>2</th>\n",
       "      <td>Driving_License</td>\n",
       "      <td>int64</td>\n",
       "      <td>0</td>\n",
       "      <td>0.0</td>\n",
       "      <td>2</td>\n",
       "      <td>[0, 1]</td>\n",
       "    </tr>\n",
       "    <tr>\n",
       "      <th>3</th>\n",
       "      <td>Region_Code</td>\n",
       "      <td>float64</td>\n",
       "      <td>0</td>\n",
       "      <td>0.0</td>\n",
       "      <td>53</td>\n",
       "      <td>[4.0, 10.0]</td>\n",
       "    </tr>\n",
       "    <tr>\n",
       "      <th>4</th>\n",
       "      <td>Previously_Insured</td>\n",
       "      <td>int64</td>\n",
       "      <td>0</td>\n",
       "      <td>0.0</td>\n",
       "      <td>2</td>\n",
       "      <td>[1, 0]</td>\n",
       "    </tr>\n",
       "    <tr>\n",
       "      <th>5</th>\n",
       "      <td>Vehicle_Age</td>\n",
       "      <td>object</td>\n",
       "      <td>0</td>\n",
       "      <td>0.0</td>\n",
       "      <td>3</td>\n",
       "      <td>[&lt; 1 Year, &gt; 2 Years]</td>\n",
       "    </tr>\n",
       "    <tr>\n",
       "      <th>6</th>\n",
       "      <td>Vehicle_Damage</td>\n",
       "      <td>object</td>\n",
       "      <td>0</td>\n",
       "      <td>0.0</td>\n",
       "      <td>2</td>\n",
       "      <td>[No, Yes]</td>\n",
       "    </tr>\n",
       "    <tr>\n",
       "      <th>7</th>\n",
       "      <td>Annual_Premium</td>\n",
       "      <td>float64</td>\n",
       "      <td>0</td>\n",
       "      <td>0.0</td>\n",
       "      <td>48838</td>\n",
       "      <td>[32438.0, 74004.0]</td>\n",
       "    </tr>\n",
       "    <tr>\n",
       "      <th>8</th>\n",
       "      <td>Policy_Sales_Channel</td>\n",
       "      <td>float64</td>\n",
       "      <td>0</td>\n",
       "      <td>0.0</td>\n",
       "      <td>155</td>\n",
       "      <td>[133.0, 82.0]</td>\n",
       "    </tr>\n",
       "    <tr>\n",
       "      <th>9</th>\n",
       "      <td>Vintage</td>\n",
       "      <td>int64</td>\n",
       "      <td>0</td>\n",
       "      <td>0.0</td>\n",
       "      <td>290</td>\n",
       "      <td>[26, 55]</td>\n",
       "    </tr>\n",
       "    <tr>\n",
       "      <th>10</th>\n",
       "      <td>Response</td>\n",
       "      <td>int64</td>\n",
       "      <td>0</td>\n",
       "      <td>0.0</td>\n",
       "      <td>2</td>\n",
       "      <td>[0, 1]</td>\n",
       "    </tr>\n",
       "  </tbody>\n",
       "</table>\n",
       "</div>"
      ],
      "text/plain": [
       "            Data Feature Data Types  Null  Null Pct  Unique  \\\n",
       "0                 Gender     object     0       0.0       2   \n",
       "1                    Age      int64     0       0.0      66   \n",
       "2        Driving_License      int64     0       0.0       2   \n",
       "3            Region_Code    float64     0       0.0      53   \n",
       "4     Previously_Insured      int64     0       0.0       2   \n",
       "5            Vehicle_Age     object     0       0.0       3   \n",
       "6         Vehicle_Damage     object     0       0.0       2   \n",
       "7         Annual_Premium    float64     0       0.0   48838   \n",
       "8   Policy_Sales_Channel    float64     0       0.0     155   \n",
       "9                Vintage      int64     0       0.0     290   \n",
       "10              Response      int64     0       0.0       2   \n",
       "\n",
       "            Unique Sample  \n",
       "0          [Female, Male]  \n",
       "1                [66, 26]  \n",
       "2                  [0, 1]  \n",
       "3             [4.0, 10.0]  \n",
       "4                  [1, 0]  \n",
       "5   [< 1 Year, > 2 Years]  \n",
       "6               [No, Yes]  \n",
       "7      [32438.0, 74004.0]  \n",
       "8           [133.0, 82.0]  \n",
       "9                [26, 55]  \n",
       "10                 [0, 1]  "
      ]
     },
     "execution_count": 13,
     "metadata": {},
     "output_type": "execute_result"
    }
   ],
   "source": [
    "pd.DataFrame(data = insuranceDesc, columns= [\n",
    "                                'Data Feature',\n",
    "    'Data Types',\n",
    "    'Null',\n",
    "    'Null Pct',\n",
    "    'Unique',\n",
    "    'Unique Sample'\n",
    "] )"
   ]
  },
  {
   "cell_type": "code",
   "execution_count": 14,
   "metadata": {},
   "outputs": [
    {
     "data": {
      "image/png": "[encoded data removed]",
      "text/plain": [
       "<Figure size 1440x1440 with 8 Axes>"
      ]
     },
     "metadata": {
      "needs_background": "light"
     },
     "output_type": "display_data"
    }
   ],
   "source": [
    "plt.figure(figsize =(20, 20 ))\n",
    "x = 1 \n",
    "\n",
    "for column in df.describe().columns:\n",
    "    plt.subplot(3,3,x)\n",
    "    sns.boxplot(df[column])\n",
    "    x+=1\n",
    "plt.tight_layout\n",
    "plt.show()"
   ]
  },
  {
   "cell_type": "code",
   "execution_count": 15,
   "metadata": {},
   "outputs": [
    {
     "data": {
      "text/plain": [
       "array([44, 76, 47, 21, 29, 24, 23, 56, 32, 41, 71, 37, 25, 42, 60, 65, 49,\n",
       "       34, 51, 26, 57, 79, 48, 45, 72, 30, 54, 27, 38, 22, 78, 20, 39, 62,\n",
       "       58, 59, 63, 50, 67, 77, 28, 69, 52, 31, 33, 43, 36, 53, 70, 46, 55,\n",
       "       40, 61, 75, 64, 35, 66, 68, 74, 73, 84, 83, 81, 80, 82, 85],\n",
       "      dtype=int64)"
      ]
     },
     "execution_count": 15,
     "metadata": {},
     "output_type": "execute_result"
    }
   ],
   "source": [
    "df['Age'].unique()"
   ]
  },
  {
   "cell_type": "markdown",
   "metadata": {},
   "source": [
    "### 5.EDA "
   ]
  },
  {
   "cell_type": "markdown",
   "metadata": {},
   "source": [
    "### Univariate"
   ]
  },
  {
   "cell_type": "markdown",
   "metadata": {},
   "source": [
    "#### Gender"
   ]
  },
  {
   "cell_type": "code",
   "execution_count": 16,
   "metadata": {},
   "outputs": [
    {
     "data": {
      "text/html": [
       "<div>\n",
       "<style scoped>\n",
       "    .dataframe tbody tr th:only-of-type {\n",
       "        vertical-align: middle;\n",
       "    }\n",
       "\n",
       "    .dataframe tbody tr th {\n",
       "        vertical-align: top;\n",
       "    }\n",
       "\n",
       "    .dataframe thead th {\n",
       "        text-align: right;\n",
       "    }\n",
       "</style>\n",
       "<table border=\"1\" class=\"dataframe\">\n",
       "  <thead>\n",
       "    <tr style=\"text-align: right;\">\n",
       "      <th></th>\n",
       "      <th>Gender</th>\n",
       "      <th>count</th>\n",
       "      <th>percent</th>\n",
       "    </tr>\n",
       "  </thead>\n",
       "  <tbody>\n",
       "    <tr>\n",
       "      <th>0</th>\n",
       "      <td>Male</td>\n",
       "      <td>206089</td>\n",
       "      <td>54.07613</td>\n",
       "    </tr>\n",
       "    <tr>\n",
       "      <th>1</th>\n",
       "      <td>Female</td>\n",
       "      <td>175020</td>\n",
       "      <td>45.92387</td>\n",
       "    </tr>\n",
       "  </tbody>\n",
       "</table>\n",
       "</div>"
      ],
      "text/plain": [
       "   Gender   count   percent\n",
       "0    Male  206089  54.07613\n",
       "1  Female  175020  45.92387"
      ]
     },
     "execution_count": 16,
     "metadata": {},
     "output_type": "execute_result"
    }
   ],
   "source": [
    "df.stb.freq(['Gender'], cum_cols = False)"
   ]
  },
  {
   "cell_type": "code",
   "execution_count": 17,
   "metadata": {},
   "outputs": [
    {
     "data": {
      "image/png": "[encoded data removed]",
      "text/plain": [
       "<Figure size 1080x360 with 1 Axes>"
      ]
     },
     "metadata": {
      "needs_background": "light"
     },
     "output_type": "display_data"
    }
   ],
   "source": [
    "plt.figure(figsize = (15,5))\n",
    "sns.countplot(df['Gender'], palette='Set1')\n",
    "plt.title(\"Gender\")\n",
    "\n",
    "\n",
    "plt.show()\n"
   ]
  },
  {
   "cell_type": "markdown",
   "metadata": {},
   "source": [
    "Pelanggan asuransi didominasi oleh Gender Laki-laki dengan persentase sebesar 54.07613%"
   ]
  },
  {
   "cell_type": "markdown",
   "metadata": {},
   "source": [
    "#### Age"
   ]
  },
  {
   "cell_type": "code",
   "execution_count": 18,
   "metadata": {},
   "outputs": [
    {
     "data": {
      "text/html": [
       "<div>\n",
       "<style scoped>\n",
       "    .dataframe tbody tr th:only-of-type {\n",
       "        vertical-align: middle;\n",
       "    }\n",
       "\n",
       "    .dataframe tbody tr th {\n",
       "        vertical-align: top;\n",
       "    }\n",
       "\n",
       "    .dataframe thead th {\n",
       "        text-align: right;\n",
       "    }\n",
       "</style>\n",
       "<table border=\"1\" class=\"dataframe\">\n",
       "  <thead>\n",
       "    <tr style=\"text-align: right;\">\n",
       "      <th></th>\n",
       "      <th>Age</th>\n",
       "      <th>count</th>\n",
       "      <th>percent</th>\n",
       "    </tr>\n",
       "  </thead>\n",
       "  <tbody>\n",
       "    <tr>\n",
       "      <th>0</th>\n",
       "      <td>24</td>\n",
       "      <td>25960</td>\n",
       "      <td>6.811700</td>\n",
       "    </tr>\n",
       "    <tr>\n",
       "      <th>1</th>\n",
       "      <td>23</td>\n",
       "      <td>24256</td>\n",
       "      <td>6.364583</td>\n",
       "    </tr>\n",
       "    <tr>\n",
       "      <th>2</th>\n",
       "      <td>22</td>\n",
       "      <td>20964</td>\n",
       "      <td>5.500788</td>\n",
       "    </tr>\n",
       "    <tr>\n",
       "      <th>3</th>\n",
       "      <td>25</td>\n",
       "      <td>20636</td>\n",
       "      <td>5.414724</td>\n",
       "    </tr>\n",
       "    <tr>\n",
       "      <th>4</th>\n",
       "      <td>21</td>\n",
       "      <td>16457</td>\n",
       "      <td>4.318187</td>\n",
       "    </tr>\n",
       "  </tbody>\n",
       "</table>\n",
       "</div>"
      ],
      "text/plain": [
       "   Age  count   percent\n",
       "0   24  25960  6.811700\n",
       "1   23  24256  6.364583\n",
       "2   22  20964  5.500788\n",
       "3   25  20636  5.414724\n",
       "4   21  16457  4.318187"
      ]
     },
     "execution_count": 18,
     "metadata": {},
     "output_type": "execute_result"
    }
   ],
   "source": [
    "df.stb.freq(['Age'], cum_cols = False).head()"
   ]
  },
  {
   "cell_type": "code",
   "execution_count": 19,
   "metadata": {},
   "outputs": [
    {
     "data": {
      "image/png": "[encoded data removed]",
      "text/plain": [
       "<Figure size 1080x360 with 1 Axes>"
      ]
     },
     "metadata": {
      "needs_background": "light"
     },
     "output_type": "display_data"
    }
   ],
   "source": [
    "plt.figure(figsize = (15,5))\n",
    "sns.countplot(df['Age'], palette='Set1')\n",
    "plt.title(\"Age\")\n",
    "\n",
    "\n",
    "plt.show()"
   ]
  },
  {
   "cell_type": "markdown",
   "metadata": {},
   "source": [
    "Berdasarkan umur, Pelanggan asuransi didominasi oleh pelanggan yang berusia 24 tahun dengan persentase sebesar 6.811700%"
   ]
  },
  {
   "cell_type": "markdown",
   "metadata": {},
   "source": [
    "#### License"
   ]
  },
  {
   "cell_type": "code",
   "execution_count": 20,
   "metadata": {},
   "outputs": [
    {
     "data": {
      "text/html": [
       "<div>\n",
       "<style scoped>\n",
       "    .dataframe tbody tr th:only-of-type {\n",
       "        vertical-align: middle;\n",
       "    }\n",
       "\n",
       "    .dataframe tbody tr th {\n",
       "        vertical-align: top;\n",
       "    }\n",
       "\n",
       "    .dataframe thead th {\n",
       "        text-align: right;\n",
       "    }\n",
       "</style>\n",
       "<table border=\"1\" class=\"dataframe\">\n",
       "  <thead>\n",
       "    <tr style=\"text-align: right;\">\n",
       "      <th></th>\n",
       "      <th>Driving_License</th>\n",
       "      <th>count</th>\n",
       "      <th>percent</th>\n",
       "    </tr>\n",
       "  </thead>\n",
       "  <tbody>\n",
       "    <tr>\n",
       "      <th>0</th>\n",
       "      <td>1</td>\n",
       "      <td>380297</td>\n",
       "      <td>99.786938</td>\n",
       "    </tr>\n",
       "    <tr>\n",
       "      <th>1</th>\n",
       "      <td>0</td>\n",
       "      <td>812</td>\n",
       "      <td>0.213062</td>\n",
       "    </tr>\n",
       "  </tbody>\n",
       "</table>\n",
       "</div>"
      ],
      "text/plain": [
       "   Driving_License   count    percent\n",
       "0                1  380297  99.786938\n",
       "1                0     812   0.213062"
      ]
     },
     "execution_count": 20,
     "metadata": {},
     "output_type": "execute_result"
    }
   ],
   "source": [
    "df.stb.freq(['Driving_License'], cum_cols = False)"
   ]
  },
  {
   "cell_type": "code",
   "execution_count": 58,
   "metadata": {},
   "outputs": [
    {
     "data": {
      "image/png": "[encoded data removed]",
      "text/plain": [
       "<Figure size 1080x360 with 1 Axes>"
      ]
     },
     "metadata": {
      "needs_background": "light"
     },
     "output_type": "display_data"
    }
   ],
   "source": [
    "plt.figure(figsize = (15,5))\n",
    "sns.countplot(df['Driving_License'], palette='Set1')\n",
    "plt.title(\"Driving_License\")\n",
    "\n",
    "\n",
    "plt.show()"
   ]
  },
  {
   "cell_type": "markdown",
   "metadata": {},
   "source": [
    "Berdasarkan kepemilikan SIM, sebanyak 99.786938% Pelanggan asuransi memiliki SIM"
   ]
  },
  {
   "cell_type": "markdown",
   "metadata": {},
   "source": [
    "#### Region Code\n"
   ]
  },
  {
   "cell_type": "code",
   "execution_count": 21,
   "metadata": {},
   "outputs": [
    {
     "data": {
      "text/html": [
       "<div>\n",
       "<style scoped>\n",
       "    .dataframe tbody tr th:only-of-type {\n",
       "        vertical-align: middle;\n",
       "    }\n",
       "\n",
       "    .dataframe tbody tr th {\n",
       "        vertical-align: top;\n",
       "    }\n",
       "\n",
       "    .dataframe thead th {\n",
       "        text-align: right;\n",
       "    }\n",
       "</style>\n",
       "<table border=\"1\" class=\"dataframe\">\n",
       "  <thead>\n",
       "    <tr style=\"text-align: right;\">\n",
       "      <th></th>\n",
       "      <th>Region_Code</th>\n",
       "      <th>count</th>\n",
       "      <th>percent</th>\n",
       "    </tr>\n",
       "  </thead>\n",
       "  <tbody>\n",
       "    <tr>\n",
       "      <th>0</th>\n",
       "      <td>28.0</td>\n",
       "      <td>106415</td>\n",
       "      <td>27.922458</td>\n",
       "    </tr>\n",
       "    <tr>\n",
       "      <th>1</th>\n",
       "      <td>8.0</td>\n",
       "      <td>33877</td>\n",
       "      <td>8.889058</td>\n",
       "    </tr>\n",
       "    <tr>\n",
       "      <th>2</th>\n",
       "      <td>46.0</td>\n",
       "      <td>19749</td>\n",
       "      <td>5.181982</td>\n",
       "    </tr>\n",
       "    <tr>\n",
       "      <th>3</th>\n",
       "      <td>41.0</td>\n",
       "      <td>18263</td>\n",
       "      <td>4.792067</td>\n",
       "    </tr>\n",
       "    <tr>\n",
       "      <th>4</th>\n",
       "      <td>15.0</td>\n",
       "      <td>13308</td>\n",
       "      <td>3.491914</td>\n",
       "    </tr>\n",
       "  </tbody>\n",
       "</table>\n",
       "</div>"
      ],
      "text/plain": [
       "   Region_Code   count    percent\n",
       "0         28.0  106415  27.922458\n",
       "1          8.0   33877   8.889058\n",
       "2         46.0   19749   5.181982\n",
       "3         41.0   18263   4.792067\n",
       "4         15.0   13308   3.491914"
      ]
     },
     "execution_count": 21,
     "metadata": {},
     "output_type": "execute_result"
    }
   ],
   "source": [
    "df.stb.freq(['Region_Code'], cum_cols = False).head()\n"
   ]
  },
  {
   "cell_type": "code",
   "execution_count": 22,
   "metadata": {},
   "outputs": [
    {
     "data": {
      "image/png": "[encoded data removed]",
      "text/plain": [
       "<Figure size 1080x360 with 1 Axes>"
      ]
     },
     "metadata": {
      "needs_background": "light"
     },
     "output_type": "display_data"
    }
   ],
   "source": [
    "# f['Region_Code'].sort_values(ascending=False)\n",
    "plt.figure(figsize = (15,5))\n",
    "sns.countplot(df['Region_Code'].head())\n",
    "plt.title(\"Region_Code\")\n",
    "\n",
    "\n",
    "plt.show()"
   ]
  },
  {
   "cell_type": "markdown",
   "metadata": {},
   "source": [
    "Berdasarkan Region Code, pelanggan terbanyak ada di region 28"
   ]
  },
  {
   "cell_type": "markdown",
   "metadata": {},
   "source": [
    "#### Previously Insured"
   ]
  },
  {
   "cell_type": "code",
   "execution_count": 23,
   "metadata": {},
   "outputs": [
    {
     "data": {
      "text/html": [
       "<div>\n",
       "<style scoped>\n",
       "    .dataframe tbody tr th:only-of-type {\n",
       "        vertical-align: middle;\n",
       "    }\n",
       "\n",
       "    .dataframe tbody tr th {\n",
       "        vertical-align: top;\n",
       "    }\n",
       "\n",
       "    .dataframe thead th {\n",
       "        text-align: right;\n",
       "    }\n",
       "</style>\n",
       "<table border=\"1\" class=\"dataframe\">\n",
       "  <thead>\n",
       "    <tr style=\"text-align: right;\">\n",
       "      <th></th>\n",
       "      <th>Previously_Insured</th>\n",
       "      <th>count</th>\n",
       "      <th>percent</th>\n",
       "    </tr>\n",
       "  </thead>\n",
       "  <tbody>\n",
       "    <tr>\n",
       "      <th>0</th>\n",
       "      <td>0</td>\n",
       "      <td>206481</td>\n",
       "      <td>54.178988</td>\n",
       "    </tr>\n",
       "    <tr>\n",
       "      <th>1</th>\n",
       "      <td>1</td>\n",
       "      <td>174628</td>\n",
       "      <td>45.821012</td>\n",
       "    </tr>\n",
       "  </tbody>\n",
       "</table>\n",
       "</div>"
      ],
      "text/plain": [
       "   Previously_Insured   count    percent\n",
       "0                   0  206481  54.178988\n",
       "1                   1  174628  45.821012"
      ]
     },
     "execution_count": 23,
     "metadata": {},
     "output_type": "execute_result"
    }
   ],
   "source": [
    "df.stb.freq(['Previously_Insured'], cum_cols = False).head()\n"
   ]
  },
  {
   "cell_type": "code",
   "execution_count": 24,
   "metadata": {},
   "outputs": [
    {
     "data": {
      "image/png": "[encoded data removed]",
      "text/plain": [
       "<Figure size 1080x360 with 1 Axes>"
      ]
     },
     "metadata": {
      "needs_background": "light"
     },
     "output_type": "display_data"
    }
   ],
   "source": [
    "plt.figure(figsize = (15,5))\n",
    "sns.countplot(df['Previously_Insured'], palette='Set1')\n",
    "plt.title(\"Previously_Insured\")\n",
    "\n",
    "\n",
    "plt.show()"
   ]
  },
  {
   "cell_type": "markdown",
   "metadata": {},
   "source": [
    "berdasarkan hasil analisis mengenai kepemilikan asuransi sebelumnya, lebih banyak pelanggan yg belum memiliki asuransi dibangding yang sebelumnya memiliki asuransi dengan persentase 54,2%"
   ]
  },
  {
   "cell_type": "markdown",
   "metadata": {},
   "source": [
    "#### Vehicle Age"
   ]
  },
  {
   "cell_type": "code",
   "execution_count": 25,
   "metadata": {},
   "outputs": [
    {
     "data": {
      "text/html": [
       "<div>\n",
       "<style scoped>\n",
       "    .dataframe tbody tr th:only-of-type {\n",
       "        vertical-align: middle;\n",
       "    }\n",
       "\n",
       "    .dataframe tbody tr th {\n",
       "        vertical-align: top;\n",
       "    }\n",
       "\n",
       "    .dataframe thead th {\n",
       "        text-align: right;\n",
       "    }\n",
       "</style>\n",
       "<table border=\"1\" class=\"dataframe\">\n",
       "  <thead>\n",
       "    <tr style=\"text-align: right;\">\n",
       "      <th></th>\n",
       "      <th>Vehicle_Age</th>\n",
       "      <th>count</th>\n",
       "      <th>percent</th>\n",
       "    </tr>\n",
       "  </thead>\n",
       "  <tbody>\n",
       "    <tr>\n",
       "      <th>0</th>\n",
       "      <td>1-2 Year</td>\n",
       "      <td>200316</td>\n",
       "      <td>52.561341</td>\n",
       "    </tr>\n",
       "    <tr>\n",
       "      <th>1</th>\n",
       "      <td>&lt; 1 Year</td>\n",
       "      <td>164786</td>\n",
       "      <td>43.238549</td>\n",
       "    </tr>\n",
       "    <tr>\n",
       "      <th>2</th>\n",
       "      <td>&gt; 2 Years</td>\n",
       "      <td>16007</td>\n",
       "      <td>4.200111</td>\n",
       "    </tr>\n",
       "  </tbody>\n",
       "</table>\n",
       "</div>"
      ],
      "text/plain": [
       "  Vehicle_Age   count    percent\n",
       "0    1-2 Year  200316  52.561341\n",
       "1    < 1 Year  164786  43.238549\n",
       "2   > 2 Years   16007   4.200111"
      ]
     },
     "execution_count": 25,
     "metadata": {},
     "output_type": "execute_result"
    }
   ],
   "source": [
    "df.stb.freq(['Vehicle_Age'], cum_cols = False).head()\n"
   ]
  },
  {
   "cell_type": "code",
   "execution_count": 26,
   "metadata": {},
   "outputs": [
    {
     "data": {
      "image/png": "[encoded data removed]",
      "text/plain": [
       "<Figure size 1080x360 with 1 Axes>"
      ]
     },
     "metadata": {
      "needs_background": "light"
     },
     "output_type": "display_data"
    }
   ],
   "source": [
    "plt.figure(figsize = (15,5))\n",
    "sns.countplot(df['Vehicle_Age'], palette='Set1')\n",
    "plt.title(\"Vehicle_Age\")\n",
    "\n",
    "\n",
    "plt.show()"
   ]
  },
  {
   "cell_type": "markdown",
   "metadata": {},
   "source": [
    "Dari penilaian mengenai lamanya kendaraan yang dimiliki pelanggan, di dominasi oleh 52.5% Pelanggan memiliki kendaraan yang rentang umurnya 1-2 tahun"
   ]
  },
  {
   "cell_type": "markdown",
   "metadata": {},
   "source": [
    "#### Vehicle Damage"
   ]
  },
  {
   "cell_type": "code",
   "execution_count": 30,
   "metadata": {},
   "outputs": [
    {
     "data": {
      "text/html": [
       "<div>\n",
       "<style scoped>\n",
       "    .dataframe tbody tr th:only-of-type {\n",
       "        vertical-align: middle;\n",
       "    }\n",
       "\n",
       "    .dataframe tbody tr th {\n",
       "        vertical-align: top;\n",
       "    }\n",
       "\n",
       "    .dataframe thead th {\n",
       "        text-align: right;\n",
       "    }\n",
       "</style>\n",
       "<table border=\"1\" class=\"dataframe\">\n",
       "  <thead>\n",
       "    <tr style=\"text-align: right;\">\n",
       "      <th></th>\n",
       "      <th>Vehicle_Damage</th>\n",
       "      <th>count</th>\n",
       "      <th>percent</th>\n",
       "    </tr>\n",
       "  </thead>\n",
       "  <tbody>\n",
       "    <tr>\n",
       "      <th>0</th>\n",
       "      <td>Yes</td>\n",
       "      <td>192413</td>\n",
       "      <td>50.487656</td>\n",
       "    </tr>\n",
       "    <tr>\n",
       "      <th>1</th>\n",
       "      <td>No</td>\n",
       "      <td>188696</td>\n",
       "      <td>49.512344</td>\n",
       "    </tr>\n",
       "  </tbody>\n",
       "</table>\n",
       "</div>"
      ],
      "text/plain": [
       "  Vehicle_Damage   count    percent\n",
       "0            Yes  192413  50.487656\n",
       "1             No  188696  49.512344"
      ]
     },
     "execution_count": 30,
     "metadata": {},
     "output_type": "execute_result"
    }
   ],
   "source": [
    "df.stb.freq(['Vehicle_Damage'], cum_cols = False).head()\n"
   ]
  },
  {
   "cell_type": "code",
   "execution_count": 63,
   "metadata": {},
   "outputs": [
    {
     "data": {
      "image/png": "[encoded data removed]",
      "text/plain": [
       "<Figure size 1080x360 with 1 Axes>"
      ]
     },
     "metadata": {
      "needs_background": "light"
     },
     "output_type": "display_data"
    }
   ],
   "source": [
    "plt.figure(figsize = (15,5))\n",
    "sns.countplot(df['Vehicle_Damage'], palette='Set1')\n",
    "plt.title(\"Vehicle_Damage\")\n",
    "\n",
    "\n",
    "plt.show()"
   ]
  },
  {
   "cell_type": "markdown",
   "metadata": {},
   "source": [
    "Dari total populasi, 50.3 % Pelanggan pernah mengalami kecelakaan kendaraan"
   ]
  },
  {
   "cell_type": "markdown",
   "metadata": {},
   "source": [
    "#### Annual Premium"
   ]
  },
  {
   "cell_type": "code",
   "execution_count": 18,
   "metadata": {},
   "outputs": [
    {
     "data": {
      "text/html": [
       "<div>\n",
       "<style scoped>\n",
       "    .dataframe tbody tr th:only-of-type {\n",
       "        vertical-align: middle;\n",
       "    }\n",
       "\n",
       "    .dataframe tbody tr th {\n",
       "        vertical-align: top;\n",
       "    }\n",
       "\n",
       "    .dataframe thead th {\n",
       "        text-align: right;\n",
       "    }\n",
       "</style>\n",
       "<table border=\"1\" class=\"dataframe\">\n",
       "  <thead>\n",
       "    <tr style=\"text-align: right;\">\n",
       "      <th></th>\n",
       "      <th>Annual_Premium</th>\n",
       "      <th>count</th>\n",
       "      <th>percent</th>\n",
       "    </tr>\n",
       "  </thead>\n",
       "  <tbody>\n",
       "    <tr>\n",
       "      <th>0</th>\n",
       "      <td>2630.0</td>\n",
       "      <td>64877</td>\n",
       "      <td>17.023214</td>\n",
       "    </tr>\n",
       "    <tr>\n",
       "      <th>1</th>\n",
       "      <td>69856.0</td>\n",
       "      <td>140</td>\n",
       "      <td>0.036735</td>\n",
       "    </tr>\n",
       "    <tr>\n",
       "      <th>2</th>\n",
       "      <td>39008.0</td>\n",
       "      <td>41</td>\n",
       "      <td>0.010758</td>\n",
       "    </tr>\n",
       "    <tr>\n",
       "      <th>3</th>\n",
       "      <td>45179.0</td>\n",
       "      <td>38</td>\n",
       "      <td>0.009971</td>\n",
       "    </tr>\n",
       "    <tr>\n",
       "      <th>4</th>\n",
       "      <td>38287.0</td>\n",
       "      <td>38</td>\n",
       "      <td>0.009971</td>\n",
       "    </tr>\n",
       "  </tbody>\n",
       "</table>\n",
       "</div>"
      ],
      "text/plain": [
       "   Annual_Premium  count    percent\n",
       "0          2630.0  64877  17.023214\n",
       "1         69856.0    140   0.036735\n",
       "2         39008.0     41   0.010758\n",
       "3         45179.0     38   0.009971\n",
       "4         38287.0     38   0.009971"
      ]
     },
     "execution_count": 18,
     "metadata": {},
     "output_type": "execute_result"
    }
   ],
   "source": [
    "df.stb.freq(['Annual_Premium'], cum_cols = False).head()\n"
   ]
  },
  {
   "cell_type": "markdown",
   "metadata": {},
   "source": [
    "17,5% pelanggan membayar annual premium sebesar 2630"
   ]
  },
  {
   "cell_type": "markdown",
   "metadata": {},
   "source": [
    "#### Policy Sales Channel"
   ]
  },
  {
   "cell_type": "code",
   "execution_count": 19,
   "metadata": {},
   "outputs": [
    {
     "data": {
      "text/html": [
       "<div>\n",
       "<style scoped>\n",
       "    .dataframe tbody tr th:only-of-type {\n",
       "        vertical-align: middle;\n",
       "    }\n",
       "\n",
       "    .dataframe tbody tr th {\n",
       "        vertical-align: top;\n",
       "    }\n",
       "\n",
       "    .dataframe thead th {\n",
       "        text-align: right;\n",
       "    }\n",
       "</style>\n",
       "<table border=\"1\" class=\"dataframe\">\n",
       "  <thead>\n",
       "    <tr style=\"text-align: right;\">\n",
       "      <th></th>\n",
       "      <th>Policy_Sales_Channel</th>\n",
       "      <th>count</th>\n",
       "      <th>percent</th>\n",
       "    </tr>\n",
       "  </thead>\n",
       "  <tbody>\n",
       "    <tr>\n",
       "      <th>0</th>\n",
       "      <td>152.0</td>\n",
       "      <td>134784</td>\n",
       "      <td>35.366260</td>\n",
       "    </tr>\n",
       "    <tr>\n",
       "      <th>1</th>\n",
       "      <td>26.0</td>\n",
       "      <td>79700</td>\n",
       "      <td>20.912652</td>\n",
       "    </tr>\n",
       "    <tr>\n",
       "      <th>2</th>\n",
       "      <td>124.0</td>\n",
       "      <td>73995</td>\n",
       "      <td>19.415705</td>\n",
       "    </tr>\n",
       "    <tr>\n",
       "      <th>3</th>\n",
       "      <td>160.0</td>\n",
       "      <td>21779</td>\n",
       "      <td>5.714638</td>\n",
       "    </tr>\n",
       "    <tr>\n",
       "      <th>4</th>\n",
       "      <td>156.0</td>\n",
       "      <td>10661</td>\n",
       "      <td>2.797362</td>\n",
       "    </tr>\n",
       "  </tbody>\n",
       "</table>\n",
       "</div>"
      ],
      "text/plain": [
       "   Policy_Sales_Channel   count    percent\n",
       "0                 152.0  134784  35.366260\n",
       "1                  26.0   79700  20.912652\n",
       "2                 124.0   73995  19.415705\n",
       "3                 160.0   21779   5.714638\n",
       "4                 156.0   10661   2.797362"
      ]
     },
     "execution_count": 19,
     "metadata": {},
     "output_type": "execute_result"
    }
   ],
   "source": [
    "df.stb.freq(['Policy_Sales_Channel'], cum_cols = False).head()\n"
   ]
  },
  {
   "cell_type": "markdown",
   "metadata": {},
   "source": [
    "35% Pelanggan memilih polis 152"
   ]
  },
  {
   "cell_type": "markdown",
   "metadata": {},
   "source": [
    "#### Response"
   ]
  },
  {
   "cell_type": "code",
   "execution_count": 20,
   "metadata": {},
   "outputs": [
    {
     "data": {
      "text/html": [
       "<div>\n",
       "<style scoped>\n",
       "    .dataframe tbody tr th:only-of-type {\n",
       "        vertical-align: middle;\n",
       "    }\n",
       "\n",
       "    .dataframe tbody tr th {\n",
       "        vertical-align: top;\n",
       "    }\n",
       "\n",
       "    .dataframe thead th {\n",
       "        text-align: right;\n",
       "    }\n",
       "</style>\n",
       "<table border=\"1\" class=\"dataframe\">\n",
       "  <thead>\n",
       "    <tr style=\"text-align: right;\">\n",
       "      <th></th>\n",
       "      <th>Response</th>\n",
       "      <th>count</th>\n",
       "      <th>percent</th>\n",
       "    </tr>\n",
       "  </thead>\n",
       "  <tbody>\n",
       "    <tr>\n",
       "      <th>0</th>\n",
       "      <td>0</td>\n",
       "      <td>334399</td>\n",
       "      <td>87.743664</td>\n",
       "    </tr>\n",
       "    <tr>\n",
       "      <th>1</th>\n",
       "      <td>1</td>\n",
       "      <td>46710</td>\n",
       "      <td>12.256336</td>\n",
       "    </tr>\n",
       "  </tbody>\n",
       "</table>\n",
       "</div>"
      ],
      "text/plain": [
       "   Response   count    percent\n",
       "0         0  334399  87.743664\n",
       "1         1   46710  12.256336"
      ]
     },
     "execution_count": 20,
     "metadata": {},
     "output_type": "execute_result"
    }
   ],
   "source": [
    "df.stb.freq(['Response'], cum_cols = False).head()\n"
   ]
  },
  {
   "cell_type": "markdown",
   "metadata": {},
   "source": [
    "- Terdapat 87.74% Orang tidak tertarik Asuransi\n",
    "- Terdapat 12.26% Orang tertarik Asuransi\n"
   ]
  },
  {
   "cell_type": "markdown",
   "metadata": {},
   "source": [
    "### Multivariate"
   ]
  },
  {
   "cell_type": "code",
   "execution_count": 27,
   "metadata": {},
   "outputs": [],
   "source": [
    "### Proses Binning Age\n",
    "age_bin = [18, 35,45, 60, df['Age'].max()] ## Menentukan Kelompok Usia"
   ]
  },
  {
   "cell_type": "code",
   "execution_count": 28,
   "metadata": {},
   "outputs": [],
   "source": [
    "labels_age = ['18-35', '36-45','46-60', '60<'] ## memberi nama pada kelompok usia"
   ]
  },
  {
   "cell_type": "code",
   "execution_count": 29,
   "metadata": {},
   "outputs": [],
   "source": [
    "df['age_bin'] = pd.cut(df['Age'], bins=age_bin, labels = labels_age)"
   ]
  },
  {
   "cell_type": "markdown",
   "metadata": {},
   "source": [
    "### Age_bin dengan Response"
   ]
  },
  {
   "cell_type": "code",
   "execution_count": 30,
   "metadata": {},
   "outputs": [
    {
     "data": {
      "text/html": [
       "<div>\n",
       "<style scoped>\n",
       "    .dataframe tbody tr th:only-of-type {\n",
       "        vertical-align: middle;\n",
       "    }\n",
       "\n",
       "    .dataframe tbody tr th {\n",
       "        vertical-align: top;\n",
       "    }\n",
       "\n",
       "    .dataframe thead th {\n",
       "        text-align: right;\n",
       "    }\n",
       "</style>\n",
       "<table border=\"1\" class=\"dataframe\">\n",
       "  <thead>\n",
       "    <tr style=\"text-align: right;\">\n",
       "      <th>Response</th>\n",
       "      <th>0</th>\n",
       "      <th>1</th>\n",
       "    </tr>\n",
       "    <tr>\n",
       "      <th>age_bin</th>\n",
       "      <th></th>\n",
       "      <th></th>\n",
       "    </tr>\n",
       "  </thead>\n",
       "  <tbody>\n",
       "    <tr>\n",
       "      <th>18-35</th>\n",
       "      <td>45.81</td>\n",
       "      <td>3.21</td>\n",
       "    </tr>\n",
       "    <tr>\n",
       "      <th>36-45</th>\n",
       "      <td>14.52</td>\n",
       "      <td>3.99</td>\n",
       "    </tr>\n",
       "    <tr>\n",
       "      <th>46-60</th>\n",
       "      <td>17.17</td>\n",
       "      <td>3.96</td>\n",
       "    </tr>\n",
       "    <tr>\n",
       "      <th>60&lt;</th>\n",
       "      <td>10.25</td>\n",
       "      <td>1.10</td>\n",
       "    </tr>\n",
       "  </tbody>\n",
       "</table>\n",
       "</div>"
      ],
      "text/plain": [
       "Response      0     1\n",
       "age_bin              \n",
       "18-35     45.81  3.21\n",
       "36-45     14.52  3.99\n",
       "46-60     17.17  3.96\n",
       "60<       10.25  1.10"
      ]
     },
     "execution_count": 30,
     "metadata": {},
     "output_type": "execute_result"
    }
   ],
   "source": [
    "(pd.crosstab(index=df['age_bin'], columns=df['Response'], normalize=True)*100).round(2)"
   ]
  },
  {
   "cell_type": "code",
   "execution_count": 31,
   "metadata": {},
   "outputs": [
    {
     "data": {
      "image/png": "[encoded data removed]",
      "text/plain": [
       "<Figure size 1296x360 with 1 Axes>"
      ]
     },
     "metadata": {
      "needs_background": "light"
     },
     "output_type": "display_data"
    }
   ],
   "source": [
    "plt.figure(figsize = (18, 5))\n",
    "sns.countplot(df['Response'], hue = df['age_bin'])\n",
    "plt.show()"
   ]
  },
  {
   "cell_type": "markdown",
   "metadata": {},
   "source": [
    "Yang paling tertarik mendaftar asuransi adalah pelanggan dengan kelompok umur 36-45 dengan persentase 3.99% \n"
   ]
  },
  {
   "cell_type": "markdown",
   "metadata": {},
   "source": [
    "### Gender dengan Response"
   ]
  },
  {
   "cell_type": "code",
   "execution_count": 32,
   "metadata": {},
   "outputs": [
    {
     "data": {
      "text/html": [
       "<div>\n",
       "<style scoped>\n",
       "    .dataframe tbody tr th:only-of-type {\n",
       "        vertical-align: middle;\n",
       "    }\n",
       "\n",
       "    .dataframe tbody tr th {\n",
       "        vertical-align: top;\n",
       "    }\n",
       "\n",
       "    .dataframe thead th {\n",
       "        text-align: right;\n",
       "    }\n",
       "</style>\n",
       "<table border=\"1\" class=\"dataframe\">\n",
       "  <thead>\n",
       "    <tr style=\"text-align: right;\">\n",
       "      <th>Response</th>\n",
       "      <th>0</th>\n",
       "      <th>1</th>\n",
       "    </tr>\n",
       "    <tr>\n",
       "      <th>Gender</th>\n",
       "      <th></th>\n",
       "      <th></th>\n",
       "    </tr>\n",
       "  </thead>\n",
       "  <tbody>\n",
       "    <tr>\n",
       "      <th>Female</th>\n",
       "      <td>41.15</td>\n",
       "      <td>4.77</td>\n",
       "    </tr>\n",
       "    <tr>\n",
       "      <th>Male</th>\n",
       "      <td>46.59</td>\n",
       "      <td>7.48</td>\n",
       "    </tr>\n",
       "  </tbody>\n",
       "</table>\n",
       "</div>"
      ],
      "text/plain": [
       "Response      0     1\n",
       "Gender               \n",
       "Female    41.15  4.77\n",
       "Male      46.59  7.48"
      ]
     },
     "execution_count": 32,
     "metadata": {},
     "output_type": "execute_result"
    }
   ],
   "source": [
    "(pd.crosstab(index=df['Gender'], columns=df['Response'], normalize=True)*100).round(2)"
   ]
  },
  {
   "cell_type": "code",
   "execution_count": 33,
   "metadata": {},
   "outputs": [
    {
     "data": {
      "image/png": "[encoded data removed]",
      "text/plain": [
       "<Figure size 1296x360 with 1 Axes>"
      ]
     },
     "metadata": {
      "needs_background": "light"
     },
     "output_type": "display_data"
    }
   ],
   "source": [
    "plt.figure(figsize = (18, 5))\n",
    "sns.countplot(df['Response'], hue = df['Gender'])\n",
    "plt.show()"
   ]
  },
  {
   "cell_type": "markdown",
   "metadata": {},
   "source": [
    "Yang paling tertarik mendaftar asuransi adalah pelanggan berjenis kelamin Pria dengan persentase 7.48% \n"
   ]
  },
  {
   "cell_type": "markdown",
   "metadata": {},
   "source": [
    "### Response dengan Vehicle_Damage"
   ]
  },
  {
   "cell_type": "code",
   "execution_count": 34,
   "metadata": {},
   "outputs": [
    {
     "data": {
      "text/html": [
       "<div>\n",
       "<style scoped>\n",
       "    .dataframe tbody tr th:only-of-type {\n",
       "        vertical-align: middle;\n",
       "    }\n",
       "\n",
       "    .dataframe tbody tr th {\n",
       "        vertical-align: top;\n",
       "    }\n",
       "\n",
       "    .dataframe thead th {\n",
       "        text-align: right;\n",
       "    }\n",
       "</style>\n",
       "<table border=\"1\" class=\"dataframe\">\n",
       "  <thead>\n",
       "    <tr style=\"text-align: right;\">\n",
       "      <th>Response</th>\n",
       "      <th>0</th>\n",
       "      <th>1</th>\n",
       "    </tr>\n",
       "    <tr>\n",
       "      <th>Vehicle_Damage</th>\n",
       "      <th></th>\n",
       "      <th></th>\n",
       "    </tr>\n",
       "  </thead>\n",
       "  <tbody>\n",
       "    <tr>\n",
       "      <th>No</th>\n",
       "      <td>49.25</td>\n",
       "      <td>0.26</td>\n",
       "    </tr>\n",
       "    <tr>\n",
       "      <th>Yes</th>\n",
       "      <td>38.49</td>\n",
       "      <td>12.00</td>\n",
       "    </tr>\n",
       "  </tbody>\n",
       "</table>\n",
       "</div>"
      ],
      "text/plain": [
       "Response            0      1\n",
       "Vehicle_Damage              \n",
       "No              49.25   0.26\n",
       "Yes             38.49  12.00"
      ]
     },
     "execution_count": 34,
     "metadata": {},
     "output_type": "execute_result"
    }
   ],
   "source": [
    "(pd.crosstab(columns=df['Response'], index=df['Vehicle_Damage'], normalize=True)*100).round(2)\n"
   ]
  },
  {
   "cell_type": "code",
   "execution_count": 83,
   "metadata": {},
   "outputs": [
    {
     "data": {
      "image/png": "[encoded data removed]",
      "text/plain": [
       "<Figure size 1296x360 with 1 Axes>"
      ]
     },
     "metadata": {
      "needs_background": "light"
     },
     "output_type": "display_data"
    }
   ],
   "source": [
    "plt.figure(figsize = (18, 5))\n",
    "sns.countplot(df['Response'], hue = df['Vehicle_Damage'])\n",
    "plt.show()"
   ]
  },
  {
   "cell_type": "markdown",
   "metadata": {},
   "source": [
    "### Response dengan Vehicle_age"
   ]
  },
  {
   "cell_type": "code",
   "execution_count": 85,
   "metadata": {},
   "outputs": [
    {
     "data": {
      "text/html": [
       "<div>\n",
       "<style scoped>\n",
       "    .dataframe tbody tr th:only-of-type {\n",
       "        vertical-align: middle;\n",
       "    }\n",
       "\n",
       "    .dataframe tbody tr th {\n",
       "        vertical-align: top;\n",
       "    }\n",
       "\n",
       "    .dataframe thead th {\n",
       "        text-align: right;\n",
       "    }\n",
       "</style>\n",
       "<table border=\"1\" class=\"dataframe\">\n",
       "  <thead>\n",
       "    <tr style=\"text-align: right;\">\n",
       "      <th>Response</th>\n",
       "      <th>0</th>\n",
       "      <th>1</th>\n",
       "    </tr>\n",
       "    <tr>\n",
       "      <th>Vehicle_Age</th>\n",
       "      <th></th>\n",
       "      <th></th>\n",
       "    </tr>\n",
       "  </thead>\n",
       "  <tbody>\n",
       "    <tr>\n",
       "      <th>1-2 Year</th>\n",
       "      <td>43.43</td>\n",
       "      <td>9.13</td>\n",
       "    </tr>\n",
       "    <tr>\n",
       "      <th>&lt; 1 Year</th>\n",
       "      <td>41.35</td>\n",
       "      <td>1.89</td>\n",
       "    </tr>\n",
       "    <tr>\n",
       "      <th>&gt; 2 Years</th>\n",
       "      <td>2.97</td>\n",
       "      <td>1.23</td>\n",
       "    </tr>\n",
       "  </tbody>\n",
       "</table>\n",
       "</div>"
      ],
      "text/plain": [
       "Response         0     1\n",
       "Vehicle_Age             \n",
       "1-2 Year     43.43  9.13\n",
       "< 1 Year     41.35  1.89\n",
       "> 2 Years     2.97  1.23"
      ]
     },
     "execution_count": 85,
     "metadata": {},
     "output_type": "execute_result"
    }
   ],
   "source": [
    "(pd.crosstab(columns=df['Response'], index=df['Vehicle_Age'], normalize=True)*100).round(2)\n"
   ]
  },
  {
   "cell_type": "code",
   "execution_count": 35,
   "metadata": {},
   "outputs": [
    {
     "data": {
      "image/png": "[encoded data removed]",
      "text/plain": [
       "<Figure size 1296x360 with 1 Axes>"
      ]
     },
     "metadata": {
      "needs_background": "light"
     },
     "output_type": "display_data"
    }
   ],
   "source": [
    "plt.figure(figsize = (18, 5))\n",
    "sns.countplot(df['Response'], hue = df['Vehicle_Age'])\n",
    "plt.show()"
   ]
  },
  {
   "cell_type": "markdown",
   "metadata": {},
   "source": [
    "## 6. Data Preprosessing"
   ]
  },
  {
   "cell_type": "code",
   "execution_count": 36,
   "metadata": {},
   "outputs": [
    {
     "data": {
      "text/plain": [
       "Index(['Gender', 'Age', 'Driving_License', 'Region_Code', 'Previously_Insured',\n",
       "       'Vehicle_Age', 'Vehicle_Damage', 'Annual_Premium',\n",
       "       'Policy_Sales_Channel', 'Vintage', 'Response', 'age_bin'],\n",
       "      dtype='object')"
      ]
     },
     "execution_count": 36,
     "metadata": {},
     "output_type": "execute_result"
    }
   ],
   "source": [
    "df.columns"
   ]
  },
  {
   "cell_type": "markdown",
   "metadata": {},
   "source": [
    "### Feature Engineering "
   ]
  },
  {
   "cell_type": "code",
   "execution_count": 37,
   "metadata": {},
   "outputs": [],
   "source": [
    "## Label Encoding Gender\n",
    "df['Gender'] = df['Gender'].map({\n",
    "    'Male' : 0,\n",
    "    'Female' : 1\n",
    "})"
   ]
  },
  {
   "cell_type": "code",
   "execution_count": 38,
   "metadata": {},
   "outputs": [],
   "source": [
    "## Label Age bin\n",
    "df['age_bin'] = df['age_bin'].map({\n",
    "    '18-35' : 0,\n",
    "    '36-45' : 1,\n",
    "    '46-60' :2,\n",
    "    '60<': 3\n",
    "})"
   ]
  },
  {
   "cell_type": "code",
   "execution_count": 39,
   "metadata": {},
   "outputs": [],
   "source": [
    "## Label Vehicle Age\n",
    "df['Vehicle_Age'] = df['Vehicle_Age'].map({\n",
    "    '> 2 Years' : 0,\n",
    "    '1-2 Year' : 1,\n",
    "    '< 1 Year' : 2\n",
    "})"
   ]
  },
  {
   "cell_type": "code",
   "execution_count": 40,
   "metadata": {},
   "outputs": [],
   "source": [
    "## Label Vehicle Damage\n",
    "df['Vehicle_Damage'] = df['Vehicle_Damage'].map({\n",
    "    'Yes' : 0,\n",
    "    'No' : 1\n",
    "})"
   ]
  },
  {
   "cell_type": "code",
   "execution_count": 41,
   "metadata": {},
   "outputs": [
    {
     "data": {
      "image/png": "[encoded data removed]",
      "text/plain": [
       "<Figure size 1080x720 with 2 Axes>"
      ]
     },
     "metadata": {
      "needs_background": "light"
     },
     "output_type": "display_data"
    }
   ],
   "source": [
    "plt.figure(figsize = (15,10))\n",
    "sns.heatmap(df.corr(), annot=True)\n",
    "plt.show()"
   ]
  },
  {
   "cell_type": "code",
   "execution_count": 42,
   "metadata": {},
   "outputs": [
    {
     "data": {
      "text/plain": [
       "Age                     0.111147\n",
       "Annual_Premium          0.022575\n",
       "Region_Code             0.010570\n",
       "Driving_License         0.010155\n",
       "Vintage                -0.001050\n",
       "Gender                 -0.052440\n",
       "Policy_Sales_Channel   -0.139042\n",
       "Vehicle_Age            -0.221874\n",
       "Previously_Insured     -0.341170\n",
       "Vehicle_Damage         -0.354400\n",
       "Name: Response, dtype: float64"
      ]
     },
     "execution_count": 42,
     "metadata": {},
     "output_type": "execute_result"
    }
   ],
   "source": [
    "correlation = df.corr()\n",
    "correlation['Response'].sort_values(ascending = False)[1:]"
   ]
  },
  {
   "cell_type": "code",
   "execution_count": 43,
   "metadata": {},
   "outputs": [],
   "source": [
    "#tidak menggunakan annual premium karna tidak ada informasi jelas mengenai produk berdasarkan harganya\n",
    "df.drop(columns='Annual_Premium', inplace=True)"
   ]
  },
  {
   "cell_type": "code",
   "execution_count": 44,
   "metadata": {},
   "outputs": [],
   "source": [
    "#tidak menggunakan Region Code dan policy karena tidak ada informasi jelas mengenai region code dan policy\n",
    "df.drop(columns=['Region_Code','Policy_Sales_Channel'], inplace=True) \n"
   ]
  },
  {
   "cell_type": "code",
   "execution_count": 45,
   "metadata": {},
   "outputs": [],
   "source": [
    "# tidak menggunakan columns age karena age sudah di ubah ke bining\n",
    "df.drop(columns=\"Age\", inplace = True)"
   ]
  },
  {
   "cell_type": "code",
   "execution_count": 46,
   "metadata": {},
   "outputs": [
    {
     "data": {
      "text/html": [
       "<div>\n",
       "<style scoped>\n",
       "    .dataframe tbody tr th:only-of-type {\n",
       "        vertical-align: middle;\n",
       "    }\n",
       "\n",
       "    .dataframe tbody tr th {\n",
       "        vertical-align: top;\n",
       "    }\n",
       "\n",
       "    .dataframe thead th {\n",
       "        text-align: right;\n",
       "    }\n",
       "</style>\n",
       "<table border=\"1\" class=\"dataframe\">\n",
       "  <thead>\n",
       "    <tr style=\"text-align: right;\">\n",
       "      <th></th>\n",
       "      <th>Gender</th>\n",
       "      <th>Driving_License</th>\n",
       "      <th>Previously_Insured</th>\n",
       "      <th>Vehicle_Age</th>\n",
       "      <th>Vehicle_Damage</th>\n",
       "      <th>Vintage</th>\n",
       "      <th>Response</th>\n",
       "      <th>age_bin</th>\n",
       "    </tr>\n",
       "  </thead>\n",
       "  <tbody>\n",
       "    <tr>\n",
       "      <th>0</th>\n",
       "      <td>0</td>\n",
       "      <td>1</td>\n",
       "      <td>0</td>\n",
       "      <td>0</td>\n",
       "      <td>0</td>\n",
       "      <td>217</td>\n",
       "      <td>1</td>\n",
       "      <td>1</td>\n",
       "    </tr>\n",
       "    <tr>\n",
       "      <th>1</th>\n",
       "      <td>0</td>\n",
       "      <td>1</td>\n",
       "      <td>0</td>\n",
       "      <td>1</td>\n",
       "      <td>1</td>\n",
       "      <td>183</td>\n",
       "      <td>0</td>\n",
       "      <td>3</td>\n",
       "    </tr>\n",
       "    <tr>\n",
       "      <th>2</th>\n",
       "      <td>0</td>\n",
       "      <td>1</td>\n",
       "      <td>0</td>\n",
       "      <td>0</td>\n",
       "      <td>0</td>\n",
       "      <td>27</td>\n",
       "      <td>1</td>\n",
       "      <td>2</td>\n",
       "    </tr>\n",
       "    <tr>\n",
       "      <th>3</th>\n",
       "      <td>0</td>\n",
       "      <td>1</td>\n",
       "      <td>1</td>\n",
       "      <td>2</td>\n",
       "      <td>1</td>\n",
       "      <td>203</td>\n",
       "      <td>0</td>\n",
       "      <td>0</td>\n",
       "    </tr>\n",
       "    <tr>\n",
       "      <th>4</th>\n",
       "      <td>1</td>\n",
       "      <td>1</td>\n",
       "      <td>1</td>\n",
       "      <td>2</td>\n",
       "      <td>1</td>\n",
       "      <td>39</td>\n",
       "      <td>0</td>\n",
       "      <td>0</td>\n",
       "    </tr>\n",
       "  </tbody>\n",
       "</table>\n",
       "</div>"
      ],
      "text/plain": [
       "   Gender  Driving_License  Previously_Insured  Vehicle_Age  Vehicle_Damage  \\\n",
       "0       0                1                   0            0               0   \n",
       "1       0                1                   0            1               1   \n",
       "2       0                1                   0            0               0   \n",
       "3       0                1                   1            2               1   \n",
       "4       1                1                   1            2               1   \n",
       "\n",
       "   Vintage  Response age_bin  \n",
       "0      217         1       1  \n",
       "1      183         0       3  \n",
       "2       27         1       2  \n",
       "3      203         0       0  \n",
       "4       39         0       0  "
      ]
     },
     "execution_count": 46,
     "metadata": {},
     "output_type": "execute_result"
    }
   ],
   "source": [
    "df.head()"
   ]
  },
  {
   "cell_type": "markdown",
   "metadata": {},
   "source": [
    "### Splitting Data"
   ]
  },
  {
   "cell_type": "code",
   "execution_count": 47,
   "metadata": {},
   "outputs": [],
   "source": [
    "from sklearn.model_selection import train_test_split"
   ]
  },
  {
   "cell_type": "code",
   "execution_count": 48,
   "metadata": {},
   "outputs": [],
   "source": [
    "X = df.drop(columns='Response')\n",
    "y = df['Response']"
   ]
  },
  {
   "cell_type": "code",
   "execution_count": 49,
   "metadata": {},
   "outputs": [],
   "source": [
    "X_train, X_test, y_train, y_test = train_test_split(X, y, train_size = .80, stratify = y,random_state = 42)"
   ]
  },
  {
   "cell_type": "markdown",
   "metadata": {},
   "source": [
    "### Marchine Learning Modeling"
   ]
  },
  {
   "cell_type": "code",
   "execution_count": 50,
   "metadata": {},
   "outputs": [],
   "source": [
    "from sklearn.linear_model import LogisticRegression\n",
    "from sklearn.neighbors import KNeighborsClassifier\n",
    "from sklearn.ensemble import RandomForestClassifier, GradientBoostingClassifier\n"
   ]
  },
  {
   "cell_type": "code",
   "execution_count": 60,
   "metadata": {},
   "outputs": [],
   "source": [
    "# Handling Imbalance data menggunakan Random Over Sampling"
   ]
  },
  {
   "cell_type": "code",
   "execution_count": 51,
   "metadata": {},
   "outputs": [],
   "source": [
    "from sklearn.utils import resample"
   ]
  },
  {
   "cell_type": "code",
   "execution_count": 52,
   "metadata": {},
   "outputs": [],
   "source": [
    "non_respon = df[df['Response'] == 0] ## Kelas Majority\n",
    "respon = df[df['Response'] == 1] ## Kelas Minority"
   ]
  },
  {
   "cell_type": "code",
   "execution_count": 53,
   "metadata": {},
   "outputs": [],
   "source": [
    "respon_oversample = resample(respon, ## Kelas Minority\n",
    "                           replace=True,\n",
    "                           n_samples = len(non_respon), ## Jumlah dari Kelas Majority\n",
    "                           random_state = 42)"
   ]
  },
  {
   "cell_type": "code",
   "execution_count": 54,
   "metadata": {},
   "outputs": [],
   "source": [
    "df_OverSampled = pd.concat([non_respon, respon_oversample])"
   ]
  },
  {
   "cell_type": "code",
   "execution_count": 55,
   "metadata": {},
   "outputs": [
    {
     "data": {
      "text/plain": [
       "1    334399\n",
       "0    334399\n",
       "Name: Response, dtype: int64"
      ]
     },
     "execution_count": 55,
     "metadata": {},
     "output_type": "execute_result"
    }
   ],
   "source": [
    "df_OverSampled['Response'].value_counts()"
   ]
  },
  {
   "cell_type": "code",
   "execution_count": 56,
   "metadata": {},
   "outputs": [],
   "source": [
    "X_train_OverSample = df_OverSampled.drop(columns='Response')\n",
    "y_train_OverSample = df_OverSampled['Response']"
   ]
  },
  {
   "cell_type": "code",
   "execution_count": 68,
   "metadata": {},
   "outputs": [],
   "source": [
    "#Algorithms\n",
    "\n",
    "#Logistic Regression\n",
    "Logreg = LogisticRegression()\n",
    "Logreg.fit(X_train_OverSample, y_train_OverSample)\n",
    "Logreg_predtrain = Logreg.predict(X_train_OverSample)\n",
    "Logreg_predtest = Logreg.predict(X_test)\n",
    "\n",
    "\n"
   ]
  },
  {
   "cell_type": "code",
   "execution_count": 69,
   "metadata": {},
   "outputs": [],
   "source": [
    "#KNN\n",
    "KNN = KNeighborsClassifier()\n",
    "KNN.fit(X_train_OverSample, y_train_OverSample)\n",
    "KNN_predtrain = KNN.predict(X_train_OverSample)\n",
    "KNN_predtest = KNN.predict(X_test)\n",
    "\n"
   ]
  },
  {
   "cell_type": "code",
   "execution_count": 70,
   "metadata": {},
   "outputs": [],
   "source": [
    "# Random Forest Classifier\n",
    "RanFor = RandomForestClassifier()\n",
    "RanFor.fit(X_train_OverSample, y_train_OverSample)\n",
    "RanForPredTrain = RanFor.predict(X_train_OverSample)\n",
    "RanForPredTest = RanFor.predict(X_test)\n",
    "\n"
   ]
  },
  {
   "cell_type": "code",
   "execution_count": 71,
   "metadata": {},
   "outputs": [],
   "source": [
    "# Xgradient Boosting\n",
    "xgb = GradientBoostingClassifier()\n",
    "xgb.fit(X_train_OverSample, y_train_OverSample)\n",
    "xgbPredTrain = xgb.predict(X_train_OverSample)\n",
    "xgbPredTest = xgb.predict(X_test)"
   ]
  },
  {
   "cell_type": "code",
   "execution_count": 72,
   "metadata": {},
   "outputs": [
    {
     "data": {
      "text/plain": [
       "(668798, 7)"
      ]
     },
     "execution_count": 72,
     "metadata": {},
     "output_type": "execute_result"
    }
   ],
   "source": [
    "X_train_OverSample.shape"
   ]
  },
  {
   "cell_type": "code",
   "execution_count": 73,
   "metadata": {},
   "outputs": [
    {
     "data": {
      "text/plain": [
       "(668798,)"
      ]
     },
     "execution_count": 73,
     "metadata": {},
     "output_type": "execute_result"
    }
   ],
   "source": [
    "y_train_OverSample.shape"
   ]
  },
  {
   "cell_type": "code",
   "execution_count": 61,
   "metadata": {},
   "outputs": [],
   "source": [
    "from sklearn.metrics import classification_report, confusion_matrix, recall_score, precision_score, f1_score, accuracy_score"
   ]
  },
  {
   "cell_type": "markdown",
   "metadata": {},
   "source": [
    "### Logistic Regression Model Building"
   ]
  },
  {
   "cell_type": "code",
   "execution_count": 79,
   "metadata": {},
   "outputs": [
    {
     "name": "stdout",
     "output_type": "stream",
     "text": [
      "Hasil Classification Logistic Regression Test\n",
      "              precision    recall  f1-score   support\n",
      "\n",
      "           0       0.99      0.59      0.74     66880\n",
      "           1       0.25      0.98      0.40      9342\n",
      "\n",
      "    accuracy                           0.64     76222\n",
      "   macro avg       0.62      0.78      0.57     76222\n",
      "weighted avg       0.90      0.64      0.70     76222\n",
      "\n",
      "====================================================================================================\n",
      "Confusion Matrix Logistic Regression\n"
     ]
    },
    {
     "data": {
      "image/png": "[encoded data removed]",
      "text/plain": [
       "<Figure size 432x288 with 2 Axes>"
      ]
     },
     "metadata": {
      "needs_background": "light"
     },
     "output_type": "display_data"
    },
    {
     "data": {
      "text/html": [
       "<div>\n",
       "<style scoped>\n",
       "    .dataframe tbody tr th:only-of-type {\n",
       "        vertical-align: middle;\n",
       "    }\n",
       "\n",
       "    .dataframe tbody tr th {\n",
       "        vertical-align: top;\n",
       "    }\n",
       "\n",
       "    .dataframe thead th {\n",
       "        text-align: right;\n",
       "    }\n",
       "</style>\n",
       "<table border=\"1\" class=\"dataframe\">\n",
       "  <thead>\n",
       "    <tr style=\"text-align: right;\">\n",
       "      <th></th>\n",
       "      <th>Pred 1</th>\n",
       "      <th>Pred 0</th>\n",
       "    </tr>\n",
       "  </thead>\n",
       "  <tbody>\n",
       "    <tr>\n",
       "      <th>Akt 1</th>\n",
       "      <td>9114</td>\n",
       "      <td>228</td>\n",
       "    </tr>\n",
       "    <tr>\n",
       "      <th>Akt 0</th>\n",
       "      <td>27205</td>\n",
       "      <td>39675</td>\n",
       "    </tr>\n",
       "  </tbody>\n",
       "</table>\n",
       "</div>"
      ],
      "text/plain": [
       "       Pred 1  Pred 0\n",
       "Akt 1    9114     228\n",
       "Akt 0   27205   39675"
      ]
     },
     "execution_count": 79,
     "metadata": {},
     "output_type": "execute_result"
    }
   ],
   "source": [
    "#logreg Train\n",
    "acc_logreg_Train = accuracy_score(y_train_OverSample, Logreg_predtrain)\n",
    "recall_logreg_Train = recall_score(y_train_OverSample, Logreg_predtrain)\n",
    "prec_logreg_Train = precision_score(y_train_OverSample, Logreg_predtrain)\n",
    "f1_logreg_Train = f1_score(y_train_OverSample, Logreg_predtrain)\n",
    "\n",
    "#Logreg Test\n",
    "acc_logreg = accuracy_score(y_test, Logreg_predtest)\n",
    "recall_logreg = recall_score(y_test, Logreg_predtest)\n",
    "prec_logreg = precision_score(y_test, Logreg_predtest)\n",
    "f1_logreg = f1_score(y_test, Logreg_predtest)\n",
    "\n",
    "print(\"Hasil Classification Logistic Regression Test\")\n",
    "print(classification_report(y_test, Logreg_predtest))\n",
    "\n",
    "cm_OS = confusion_matrix(y_test, Logreg_predtest, labels=[1 , 0])\n",
    "df_OS = pd.DataFrame(data=cm_OS, index=[\"Akt 1\" ,\"Akt 0\"], columns=[\"Pred 1\", \"Pred 0\"])\n",
    "print('='*100)\n",
    "print(\"Confusion Matrix Logistic Regression\")\n",
    "sns.heatmap(df_OS, annot=True)\n",
    "plt.show()\n",
    "df_OS"
   ]
  },
  {
   "cell_type": "markdown",
   "metadata": {},
   "source": [
    "### KNN Classifier"
   ]
  },
  {
   "cell_type": "code",
   "execution_count": 80,
   "metadata": {},
   "outputs": [
    {
     "name": "stdout",
     "output_type": "stream",
     "text": [
      "Hasil Classification KNN Test\n",
      "              precision    recall  f1-score   support\n",
      "\n",
      "           0       0.97      0.69      0.80     66880\n",
      "           1       0.27      0.84      0.41      9342\n",
      "\n",
      "    accuracy                           0.71     76222\n",
      "   macro avg       0.62      0.76      0.61     76222\n",
      "weighted avg       0.88      0.71      0.76     76222\n",
      "\n",
      "====================================================================================================\n",
      "Confusion Matrix KNN\n"
     ]
    },
    {
     "data": {
      "image/png": "[encoded data removed]",
      "text/plain": [
       "<Figure size 432x288 with 2 Axes>"
      ]
     },
     "metadata": {
      "needs_background": "light"
     },
     "output_type": "display_data"
    },
    {
     "data": {
      "text/html": [
       "<div>\n",
       "<style scoped>\n",
       "    .dataframe tbody tr th:only-of-type {\n",
       "        vertical-align: middle;\n",
       "    }\n",
       "\n",
       "    .dataframe tbody tr th {\n",
       "        vertical-align: top;\n",
       "    }\n",
       "\n",
       "    .dataframe thead th {\n",
       "        text-align: right;\n",
       "    }\n",
       "</style>\n",
       "<table border=\"1\" class=\"dataframe\">\n",
       "  <thead>\n",
       "    <tr style=\"text-align: right;\">\n",
       "      <th></th>\n",
       "      <th>Pred 1</th>\n",
       "      <th>Pred 0</th>\n",
       "    </tr>\n",
       "  </thead>\n",
       "  <tbody>\n",
       "    <tr>\n",
       "      <th>Akt 1</th>\n",
       "      <td>7875</td>\n",
       "      <td>1467</td>\n",
       "    </tr>\n",
       "    <tr>\n",
       "      <th>Akt 0</th>\n",
       "      <td>20977</td>\n",
       "      <td>45903</td>\n",
       "    </tr>\n",
       "  </tbody>\n",
       "</table>\n",
       "</div>"
      ],
      "text/plain": [
       "       Pred 1  Pred 0\n",
       "Akt 1    7875    1467\n",
       "Akt 0   20977   45903"
      ]
     },
     "execution_count": 80,
     "metadata": {},
     "output_type": "execute_result"
    }
   ],
   "source": [
    "#KNN Train\n",
    "acc_KNN_Train = accuracy_score(y_train_OverSample, KNN_predtrain)\n",
    "recall_KNN_Train = recall_score(y_train_OverSample, KNN_predtrain)\n",
    "prec_KNN_Train = precision_score(y_train_OverSample, KNN_predtrain)\n",
    "f1_KNN_Train = f1_score(y_train_OverSample, KNN_predtrain)\n",
    "\n",
    "#KNN Test\n",
    "acc_KNN = accuracy_score(y_test, KNN_predtest)\n",
    "recall_KNN = recall_score(y_test, KNN_predtest)\n",
    "prec_KNN = precision_score(y_test, KNN_predtest)\n",
    "f1_KNN = f1_score(y_test, KNN_predtest)\n",
    "\n",
    "print(\"Hasil Classification KNN Test\")\n",
    "print(classification_report(y_test, KNN_predtest))\n",
    "cm_OS = confusion_matrix(y_test, KNN_predtest, labels=[1 , 0])\n",
    "df_OS = pd.DataFrame(data=cm_OS, index=[\"Akt 1\" ,\"Akt 0\"], columns=[\"Pred 1\", \"Pred 0\"])\n",
    "print('='*100)\n",
    "print(\"Confusion Matrix KNN\")\n",
    "sns.heatmap(df_OS, annot=True)\n",
    "plt.show()\n",
    "df_OS"
   ]
  },
  {
   "cell_type": "markdown",
   "metadata": {},
   "source": [
    "### Random Forest Classifier"
   ]
  },
  {
   "cell_type": "code",
   "execution_count": 77,
   "metadata": {},
   "outputs": [
    {
     "name": "stdout",
     "output_type": "stream",
     "text": [
      "Hasil Classification Random Forest Test\n",
      "              precision    recall  f1-score   support\n",
      "\n",
      "           0       0.99      0.65      0.78     66880\n",
      "           1       0.27      0.95      0.42      9342\n",
      "\n",
      "    accuracy                           0.68     76222\n",
      "   macro avg       0.63      0.80      0.60     76222\n",
      "weighted avg       0.90      0.68      0.74     76222\n",
      "\n",
      "====================================================================================================\n",
      "Confusion Matrix Random Forest\n"
     ]
    },
    {
     "data": {
      "image/png": "[encoded data removed]",
      "text/plain": [
       "<Figure size 432x288 with 2 Axes>"
      ]
     },
     "metadata": {
      "needs_background": "light"
     },
     "output_type": "display_data"
    },
    {
     "data": {
      "text/html": [
       "<div>\n",
       "<style scoped>\n",
       "    .dataframe tbody tr th:only-of-type {\n",
       "        vertical-align: middle;\n",
       "    }\n",
       "\n",
       "    .dataframe tbody tr th {\n",
       "        vertical-align: top;\n",
       "    }\n",
       "\n",
       "    .dataframe thead th {\n",
       "        text-align: right;\n",
       "    }\n",
       "</style>\n",
       "<table border=\"1\" class=\"dataframe\">\n",
       "  <thead>\n",
       "    <tr style=\"text-align: right;\">\n",
       "      <th></th>\n",
       "      <th>Pred 1</th>\n",
       "      <th>Pred 0</th>\n",
       "    </tr>\n",
       "  </thead>\n",
       "  <tbody>\n",
       "    <tr>\n",
       "      <th>Akt 1</th>\n",
       "      <td>8832</td>\n",
       "      <td>510</td>\n",
       "    </tr>\n",
       "    <tr>\n",
       "      <th>Akt 0</th>\n",
       "      <td>23557</td>\n",
       "      <td>43323</td>\n",
       "    </tr>\n",
       "  </tbody>\n",
       "</table>\n",
       "</div>"
      ],
      "text/plain": [
       "       Pred 1  Pred 0\n",
       "Akt 1    8832     510\n",
       "Akt 0   23557   43323"
      ]
     },
     "execution_count": 77,
     "metadata": {},
     "output_type": "execute_result"
    }
   ],
   "source": [
    "# Random Forest Train\n",
    "acc_RF_Train = accuracy_score(y_train_OverSample, RanForPredTrain)\n",
    "recall_RF_Train = recall_score(y_train_OverSample, RanForPredTrain)\n",
    "prec_RF_Train = precision_score(y_train_OverSample, RanForPredTrain)\n",
    "f1_RF_Train = f1_score(y_train_OverSample, RanForPredTrain)\n",
    "\n",
    "#Random Forest Test\n",
    "acc_RF = accuracy_score(y_test, RanForPredTest)\n",
    "recall_RF = recall_score(y_test, RanForPredTest)\n",
    "prec_RF = precision_score(y_test, RanForPredTest)\n",
    "f1_RF = f1_score(y_test, RanForPredTest)\n",
    "\n",
    "print(\"Hasil Classification Random Forest Test\")\n",
    "print(classification_report(y_test, RanForPredTest))\n",
    "cm_OS = confusion_matrix(y_test, RanForPredTest, labels=[1 , 0])\n",
    "df_OS = pd.DataFrame(data=cm_OS, index=[\"Akt 1\" ,\"Akt 0\"], columns=[\"Pred 1\", \"Pred 0\"])\n",
    "print('='*100)\n",
    "print(\"Confusion Matrix Random Forest\")\n",
    "sns.heatmap(df_OS, annot=True)\n",
    "plt.show()\n",
    "df_OS"
   ]
  },
  {
   "cell_type": "code",
   "execution_count": 78,
   "metadata": {},
   "outputs": [
    {
     "name": "stdout",
     "output_type": "stream",
     "text": [
      "Hasil Classification XGB Test\n",
      "              precision    recall  f1-score   support\n",
      "\n",
      "           0       0.99      0.59      0.74     66880\n",
      "           1       0.25      0.98      0.40      9342\n",
      "\n",
      "    accuracy                           0.64     76222\n",
      "   macro avg       0.62      0.78      0.57     76222\n",
      "weighted avg       0.90      0.64      0.70     76222\n",
      "\n",
      "====================================================================================================\n",
      "Confusion Matrix XGB\n"
     ]
    },
    {
     "data": {
      "image/png": "[encoded data removed]",
      "text/plain": [
       "<Figure size 432x288 with 2 Axes>"
      ]
     },
     "metadata": {
      "needs_background": "light"
     },
     "output_type": "display_data"
    },
    {
     "data": {
      "text/html": [
       "<div>\n",
       "<style scoped>\n",
       "    .dataframe tbody tr th:only-of-type {\n",
       "        vertical-align: middle;\n",
       "    }\n",
       "\n",
       "    .dataframe tbody tr th {\n",
       "        vertical-align: top;\n",
       "    }\n",
       "\n",
       "    .dataframe thead th {\n",
       "        text-align: right;\n",
       "    }\n",
       "</style>\n",
       "<table border=\"1\" class=\"dataframe\">\n",
       "  <thead>\n",
       "    <tr style=\"text-align: right;\">\n",
       "      <th></th>\n",
       "      <th>Pred 1</th>\n",
       "      <th>Pred 0</th>\n",
       "    </tr>\n",
       "  </thead>\n",
       "  <tbody>\n",
       "    <tr>\n",
       "      <th>Akt 1</th>\n",
       "      <td>9125</td>\n",
       "      <td>217</td>\n",
       "    </tr>\n",
       "    <tr>\n",
       "      <th>Akt 0</th>\n",
       "      <td>27217</td>\n",
       "      <td>39663</td>\n",
       "    </tr>\n",
       "  </tbody>\n",
       "</table>\n",
       "</div>"
      ],
      "text/plain": [
       "       Pred 1  Pred 0\n",
       "Akt 1    9125     217\n",
       "Akt 0   27217   39663"
      ]
     },
     "execution_count": 78,
     "metadata": {},
     "output_type": "execute_result"
    }
   ],
   "source": [
    "# XGB Train\n",
    "acc_XGB_Train = accuracy_score(y_train_OverSample, xgbPredTrain)\n",
    "recall_XGB_Train = recall_score(y_train_OverSample, xgbPredTrain)\n",
    "prec_XGB_Train = precision_score(y_train_OverSample, xgbPredTrain)\n",
    "f1_XGB_Train = f1_score(y_train_OverSample, xgbPredTrain)\n",
    "\n",
    "# XGB Test\n",
    "acc_XGB = accuracy_score(y_test, xgbPredTest)\n",
    "recall_XGB = recall_score(y_test, xgbPredTest)\n",
    "prec_XGB = precision_score(y_test, xgbPredTest)\n",
    "f1_XGB = f1_score(y_test, xgbPredTest)\n",
    "print(\"Hasil Classification XGB Test\")\n",
    "print(classification_report(y_test, xgbPredTest))\n",
    "cm_OS = confusion_matrix(y_test, xgbPredTest, labels=[1 , 0])\n",
    "df_OS = pd.DataFrame(data=cm_OS, index=[\"Akt 1\" ,\"Akt 0\"], columns=[\"Pred 1\", \"Pred 0\"])\n",
    "print('='*100)\n",
    "print(\"Confusion Matrix XGB\")\n",
    "sns.heatmap(df_OS, annot=True)\n",
    "plt.show()\n",
    "df_OS"
   ]
  },
  {
   "cell_type": "code",
   "execution_count": 81,
   "metadata": {},
   "outputs": [
    {
     "data": {
      "text/html": [
       "<div>\n",
       "<style scoped>\n",
       "    .dataframe tbody tr th:only-of-type {\n",
       "        vertical-align: middle;\n",
       "    }\n",
       "\n",
       "    .dataframe tbody tr th {\n",
       "        vertical-align: top;\n",
       "    }\n",
       "\n",
       "    .dataframe thead th {\n",
       "        text-align: right;\n",
       "    }\n",
       "</style>\n",
       "<table border=\"1\" class=\"dataframe\">\n",
       "  <thead>\n",
       "    <tr style=\"text-align: right;\">\n",
       "      <th></th>\n",
       "      <th>Logreg Train</th>\n",
       "      <th>Logreg Test</th>\n",
       "      <th>KNN Train</th>\n",
       "      <th>KNN Test</th>\n",
       "      <th>Random Forest Train</th>\n",
       "      <th>Random Forest Test</th>\n",
       "      <th>XGB Train</th>\n",
       "      <th>XGB Test</th>\n",
       "    </tr>\n",
       "  </thead>\n",
       "  <tbody>\n",
       "    <tr>\n",
       "      <th>Accuracy</th>\n",
       "      <td>0.783411</td>\n",
       "      <td>0.640091</td>\n",
       "      <td>0.763053</td>\n",
       "      <td>0.705544</td>\n",
       "      <td>0.797863</td>\n",
       "      <td>0.684251</td>\n",
       "      <td>0.784397</td>\n",
       "      <td>0.640078</td>\n",
       "    </tr>\n",
       "    <tr>\n",
       "      <th>Precision</th>\n",
       "      <td>0.705015</td>\n",
       "      <td>0.250943</td>\n",
       "      <td>0.727566</td>\n",
       "      <td>0.272945</td>\n",
       "      <td>0.728776</td>\n",
       "      <td>0.272685</td>\n",
       "      <td>0.705363</td>\n",
       "      <td>0.251087</td>\n",
       "    </tr>\n",
       "    <tr>\n",
       "      <th>Recall</th>\n",
       "      <td>0.974608</td>\n",
       "      <td>0.975594</td>\n",
       "      <td>0.841022</td>\n",
       "      <td>0.842967</td>\n",
       "      <td>0.948855</td>\n",
       "      <td>0.945408</td>\n",
       "      <td>0.976821</td>\n",
       "      <td>0.976772</td>\n",
       "    </tr>\n",
       "    <tr>\n",
       "      <th>F1-Score</th>\n",
       "      <td>0.818176</td>\n",
       "      <td>0.399203</td>\n",
       "      <td>0.780191</td>\n",
       "      <td>0.412368</td>\n",
       "      <td>0.824380</td>\n",
       "      <td>0.423282</td>\n",
       "      <td>0.819189</td>\n",
       "      <td>0.399483</td>\n",
       "    </tr>\n",
       "  </tbody>\n",
       "</table>\n",
       "</div>"
      ],
      "text/plain": [
       "           Logreg Train  Logreg Test  KNN Train  KNN Test  \\\n",
       "Accuracy       0.783411     0.640091   0.763053  0.705544   \n",
       "Precision      0.705015     0.250943   0.727566  0.272945   \n",
       "Recall         0.974608     0.975594   0.841022  0.842967   \n",
       "F1-Score       0.818176     0.399203   0.780191  0.412368   \n",
       "\n",
       "           Random Forest Train  Random Forest Test  XGB Train  XGB Test  \n",
       "Accuracy              0.797863            0.684251   0.784397  0.640078  \n",
       "Precision             0.728776            0.272685   0.705363  0.251087  \n",
       "Recall                0.948855            0.945408   0.976821  0.976772  \n",
       "F1-Score              0.824380            0.423282   0.819189  0.399483  "
      ]
     },
     "execution_count": 81,
     "metadata": {},
     "output_type": "execute_result"
    }
   ],
   "source": [
    "data = {\n",
    "    \"Logreg Train\" : [acc_logreg_Train, prec_logreg_Train, recall_logreg_Train, f1_logreg_Train],    \n",
    "    \"Logreg Test\" : [acc_logreg, prec_logreg, recall_logreg, f1_logreg],\n",
    "    \"KNN Train\" : [acc_KNN_Train, prec_KNN_Train, recall_KNN_Train, f1_KNN_Train],\n",
    "    \"KNN Test\" : [acc_KNN, prec_KNN, recall_KNN, f1_KNN],\n",
    "    \"Random Forest Train\" : [acc_RF_Train, prec_RF_Train, recall_RF_Train, f1_RF_Train],    \n",
    "    \"Random Forest Test\" : [acc_RF, prec_RF, recall_RF, f1_RF],\n",
    "    \"XGB Train\": [acc_XGB_Train, prec_XGB_Train, recall_XGB_Train, f1_XGB_Train],\n",
    "    \"XGB Test\": [acc_XGB, prec_XGB, recall_XGB, f1_XGB]\n",
    "}\n",
    "eva = pd.DataFrame(data=data, index =['Accuracy', 'Precision', 'Recall', 'F1-Score'])\n",
    "eva"
   ]
  },
  {
   "cell_type": "markdown",
   "metadata": {},
   "source": [
    "# Hyperparameter Tuning"
   ]
  },
  {
   "cell_type": "code",
   "execution_count": 84,
   "metadata": {},
   "outputs": [],
   "source": [
    "from sklearn.model_selection import RandomizedSearchCV\n"
   ]
  },
  {
   "cell_type": "markdown",
   "metadata": {},
   "source": [
    "#### Logistic Regression Tuned"
   ]
  },
  {
   "cell_type": "code",
   "execution_count": 82,
   "metadata": {},
   "outputs": [],
   "source": [
    "LogregTuned = LogisticRegression()\n",
    "Param_LR = {'penalty':['l2','l1', 'elasticnet'],\n",
    "    \"fit_intercept\" : [True, False],\n",
    "    \"class_weight\" : [True, False],\n",
    "    \"max_iter\" : [100,200],\n",
    "    \"C\": [1,0.5,0.1,5,9]\n",
    "}\n"
   ]
  },
  {
   "cell_type": "code",
   "execution_count": 85,
   "metadata": {},
   "outputs": [],
   "source": [
    "model_LR_tuned = RandomizedSearchCV(estimator=LogregTuned, param_distributions= Param_LR, n_jobs= -1, cv= 5, verbose= 1, scoring= 'recall')"
   ]
  },
  {
   "cell_type": "code",
   "execution_count": 86,
   "metadata": {},
   "outputs": [
    {
     "name": "stdout",
     "output_type": "stream",
     "text": [
      "Fitting 5 folds for each of 10 candidates, totalling 50 fits\n"
     ]
    },
    {
     "name": "stderr",
     "output_type": "stream",
     "text": [
      "[Parallel(n_jobs=-1)]: Using backend LokyBackend with 4 concurrent workers.\n",
      "[Parallel(n_jobs=-1)]: Done  42 tasks      | elapsed:   16.5s\n",
      "[Parallel(n_jobs=-1)]: Done  50 out of  50 | elapsed:   32.7s finished\n"
     ]
    },
    {
     "data": {
      "text/plain": [
       "RandomizedSearchCV(cv=5, error_score=nan,\n",
       "                   estimator=LogisticRegression(C=1.0, class_weight=None,\n",
       "                                                dual=False, fit_intercept=True,\n",
       "                                                intercept_scaling=1,\n",
       "                                                l1_ratio=None, max_iter=100,\n",
       "                                                multi_class='auto', n_jobs=None,\n",
       "                                                penalty='l2', random_state=None,\n",
       "                                                solver='lbfgs', tol=0.0001,\n",
       "                                                verbose=0, warm_start=False),\n",
       "                   iid='deprecated', n_iter=10, n_jobs=-1,\n",
       "                   param_distributions={'C': [1, 0.5, 0.1, 5, 9],\n",
       "                                        'class_weight': [True, False],\n",
       "                                        'fit_intercept': [True, False],\n",
       "                                        'max_iter': [100, 200],\n",
       "                                        'penalty': ['l2', 'l1', 'elasticnet']},\n",
       "                   pre_dispatch='2*n_jobs', random_state=None, refit=True,\n",
       "                   return_train_score=False, scoring='recall', verbose=1)"
      ]
     },
     "execution_count": 86,
     "metadata": {},
     "output_type": "execute_result"
    }
   ],
   "source": [
    "model_LR_tuned.fit(X_train_OverSample, y_train_OverSample)"
   ]
  },
  {
   "cell_type": "code",
   "execution_count": 90,
   "metadata": {},
   "outputs": [
    {
     "data": {
      "text/plain": [
       "{'penalty': 'l2',\n",
       " 'max_iter': 200,\n",
       " 'fit_intercept': False,\n",
       " 'class_weight': True,\n",
       " 'C': 1}"
      ]
     },
     "execution_count": 90,
     "metadata": {},
     "output_type": "execute_result"
    }
   ],
   "source": [
    "model_LR_tuned.best_params_"
   ]
  },
  {
   "cell_type": "code",
   "execution_count": 100,
   "metadata": {},
   "outputs": [],
   "source": [
    "LogRegPred_Tuned_Train = model_LR_tuned.predict(X_train_OverSample)\n",
    "LogRegPred_Tuned = model_LR_tuned.predict(X_test)"
   ]
  },
  {
   "cell_type": "code",
   "execution_count": 101,
   "metadata": {},
   "outputs": [
    {
     "name": "stdout",
     "output_type": "stream",
     "text": [
      "              precision    recall  f1-score   support\n",
      "\n",
      "           0       0.99      0.59      0.74     66880\n",
      "           1       0.25      0.98      0.40      9342\n",
      "\n",
      "    accuracy                           0.64     76222\n",
      "   macro avg       0.62      0.78      0.57     76222\n",
      "weighted avg       0.90      0.64      0.70     76222\n",
      "\n",
      "====================================================================================================\n"
     ]
    },
    {
     "data": {
      "image/png": "[encoded data removed]",
      "text/plain": [
       "<Figure size 432x288 with 2 Axes>"
      ]
     },
     "metadata": {},
     "output_type": "display_data"
    }
   ],
   "source": [
    "acc_LogRegTune_Train = accuracy_score(y_train_OverSample, LogRegPred_Tuned_Train)\n",
    "prec_LogRegTune_Train = precision_score(y_train_OverSample, LogRegPred_Tuned_Train)\n",
    "rec_LogRegTune_Train = recall_score(y_train_OverSample, LogRegPred_Tuned_Train)\n",
    "f1_LogRegTune_Train = f1_score(y_train_OverSample, LogRegPred_Tuned_Train)\n",
    "\n",
    "acc_LogRegTune = accuracy_score(y_test, LogRegPred_Tuned)\n",
    "prec_LogRegTune = precision_score(y_test, LogRegPred_Tuned)\n",
    "rec_LogRegTune = recall_score(y_test, LogRegPred_Tuned)\n",
    "f1_LogRegTune = f1_score(y_test, LogRegPred_Tuned)\n",
    "\n",
    "print(classification_report(y_test, LogRegPred_Tuned))\n",
    "print (100*\"=\")\n",
    "\n",
    "cm = confusion_matrix(y_test, LogRegPred_Tuned, labels = [1,0])\n",
    "logreg_cm = pd.DataFrame(data = cm,  columns = ['Prediksi 1', 'Prediksi 0'], index = ['Aktual 1', 'Aktual 0'])\n",
    "sns.heatmap(logreg_cm, annot = True)\n",
    "plt.style.use('seaborn-whitegrid')\n",
    "plt.show()"
   ]
  },
  {
   "cell_type": "markdown",
   "metadata": {},
   "source": [
    "#### KNN Tuned"
   ]
  },
  {
   "cell_type": "code",
   "execution_count": 93,
   "metadata": {},
   "outputs": [],
   "source": [
    "KNN_tuned =  KNeighborsClassifier()\n",
    "param_KNN = {\"n_neighbors\": [3,9,27],\n",
    "             \"weights\": ['uniform', 'distance'],\n",
    "             \"p\" : [1,2,3]     \n",
    "            }"
   ]
  },
  {
   "cell_type": "code",
   "execution_count": 94,
   "metadata": {},
   "outputs": [],
   "source": [
    "model_KNN_tuned = RandomizedSearchCV(estimator=KNN_tuned, param_distributions= param_KNN, n_jobs= -1, cv= 5, verbose= 1, scoring= 'recall')"
   ]
  },
  {
   "cell_type": "code",
   "execution_count": 95,
   "metadata": {},
   "outputs": [
    {
     "name": "stdout",
     "output_type": "stream",
     "text": [
      "Fitting 5 folds for each of 10 candidates, totalling 50 fits\n"
     ]
    },
    {
     "name": "stderr",
     "output_type": "stream",
     "text": [
      "[Parallel(n_jobs=-1)]: Using backend LokyBackend with 4 concurrent workers.\n",
      "[Parallel(n_jobs=-1)]: Done  42 tasks      | elapsed:  6.3min\n",
      "[Parallel(n_jobs=-1)]: Done  50 out of  50 | elapsed:  7.1min finished\n"
     ]
    },
    {
     "data": {
      "text/plain": [
       "RandomizedSearchCV(cv=5, error_score=nan,\n",
       "                   estimator=KNeighborsClassifier(algorithm='auto',\n",
       "                                                  leaf_size=30,\n",
       "                                                  metric='minkowski',\n",
       "                                                  metric_params=None,\n",
       "                                                  n_jobs=None, n_neighbors=5,\n",
       "                                                  p=2, weights='uniform'),\n",
       "                   iid='deprecated', n_iter=10, n_jobs=-1,\n",
       "                   param_distributions={'n_neighbors': [3, 9, 27],\n",
       "                                        'p': [1, 2, 3],\n",
       "                                        'weights': ['uniform', 'distance']},\n",
       "                   pre_dispatch='2*n_jobs', random_state=None, refit=True,\n",
       "                   return_train_score=False, scoring='recall', verbose=1)"
      ]
     },
     "execution_count": 95,
     "metadata": {},
     "output_type": "execute_result"
    }
   ],
   "source": [
    "model_KNN_tuned.fit(X_train_OverSample, y_train_OverSample)"
   ]
  },
  {
   "cell_type": "code",
   "execution_count": 96,
   "metadata": {},
   "outputs": [
    {
     "data": {
      "text/plain": [
       "{'weights': 'uniform', 'p': 1, 'n_neighbors': 27}"
      ]
     },
     "execution_count": 96,
     "metadata": {},
     "output_type": "execute_result"
    }
   ],
   "source": [
    "model_KNN_tuned.best_params_"
   ]
  },
  {
   "cell_type": "code",
   "execution_count": 103,
   "metadata": {},
   "outputs": [
    {
     "name": "stdout",
     "output_type": "stream",
     "text": [
      "              precision    recall  f1-score   support\n",
      "\n",
      "           0       0.98      0.64      0.77     66880\n",
      "           1       0.26      0.93      0.41      9342\n",
      "\n",
      "    accuracy                           0.67     76222\n",
      "   macro avg       0.62      0.78      0.59     76222\n",
      "weighted avg       0.90      0.67      0.73     76222\n",
      "\n",
      "====================================================================================================\n"
     ]
    },
    {
     "data": {
      "image/png": "[encoded data removed]",
      "text/plain": [
       "<Figure size 432x288 with 2 Axes>"
      ]
     },
     "metadata": {},
     "output_type": "display_data"
    },
    {
     "name": "stdout",
     "output_type": "stream",
     "text": [
      "====================================================================================================\n"
     ]
    },
    {
     "data": {
      "text/html": [
       "<div>\n",
       "<style scoped>\n",
       "    .dataframe tbody tr th:only-of-type {\n",
       "        vertical-align: middle;\n",
       "    }\n",
       "\n",
       "    .dataframe tbody tr th {\n",
       "        vertical-align: top;\n",
       "    }\n",
       "\n",
       "    .dataframe thead th {\n",
       "        text-align: right;\n",
       "    }\n",
       "</style>\n",
       "<table border=\"1\" class=\"dataframe\">\n",
       "  <thead>\n",
       "    <tr style=\"text-align: right;\">\n",
       "      <th></th>\n",
       "      <th>Prediksi 1</th>\n",
       "      <th>Prediksi 0</th>\n",
       "    </tr>\n",
       "  </thead>\n",
       "  <tbody>\n",
       "    <tr>\n",
       "      <th>Aktual 1</th>\n",
       "      <td>8643</td>\n",
       "      <td>699</td>\n",
       "    </tr>\n",
       "    <tr>\n",
       "      <th>Aktual 0</th>\n",
       "      <td>24150</td>\n",
       "      <td>42730</td>\n",
       "    </tr>\n",
       "  </tbody>\n",
       "</table>\n",
       "</div>"
      ],
      "text/plain": [
       "          Prediksi 1  Prediksi 0\n",
       "Aktual 1        8643         699\n",
       "Aktual 0       24150       42730"
      ]
     },
     "execution_count": 103,
     "metadata": {},
     "output_type": "execute_result"
    }
   ],
   "source": [
    "KNN_Pred_Tuned_Train = model_KNN_tuned.predict(X_train_OverSample)\n",
    "acc_KNN_Tune_Train = accuracy_score(y_train_OverSample, KNN_Pred_Tuned_Train)\n",
    "prec_KNN_Tune_Train = precision_score(y_train_OverSample, KNN_Pred_Tuned_Train)\n",
    "rec_KNN_Tune_Train = recall_score(y_train_OverSample, KNN_Pred_Tuned_Train)\n",
    "f1_KNN_Tune_Train = f1_score(y_train_OverSample, KNN_Pred_Tuned_Train)\n",
    "\n",
    "KNN_Pred_Tuned = model_KNN_tuned.predict(X_test)\n",
    "acc_KNN_Tune = accuracy_score(y_test, KNN_Pred_Tuned)\n",
    "prec_KNN_Tune = precision_score(y_test, KNN_Pred_Tuned)\n",
    "rec_KNN_Tune = recall_score(y_test, KNN_Pred_Tuned)\n",
    "f1_KNN_Tune = f1_score(y_test, KNN_Pred_Tuned)\n",
    "\n",
    "print(classification_report(y_test, KNN_Pred_Tuned))\n",
    "print (100*\"=\")\n",
    "\n",
    "cm = confusion_matrix(y_test, KNN_Pred_Tuned, labels = [1,0])\n",
    "KNN_cm = pd.DataFrame(data = cm,  columns = ['Prediksi 1', 'Prediksi 0'], index = ['Aktual 1', 'Aktual 0'])\n",
    "sns.heatmap(KNN_cm, annot = True)\n",
    "plt.style.use('seaborn-whitegrid')\n",
    "plt.show()\n",
    "print(100*('='))\n",
    "KNN_cm"
   ]
  },
  {
   "cell_type": "markdown",
   "metadata": {},
   "source": [
    "#### Random Forest Tuned"
   ]
  },
  {
   "cell_type": "code",
   "execution_count": 104,
   "metadata": {},
   "outputs": [],
   "source": [
    "RF_tuned =  RandomForestClassifier()\n",
    "param_RF = {\"n_estimators\": [3,9,27],\n",
    "            \"max_depth\" :[1,3,5],\n",
    "            \"min_samples_leaf\": [3,6,9],\n",
    "            \"min_samples_split\" : [6,12,18]\n",
    "            }\n",
    "model_RF_tuned = RandomizedSearchCV(estimator=RF_tuned, param_distributions= param_RF, n_jobs= -1, cv= 5, verbose= 1, scoring= 'recall')"
   ]
  },
  {
   "cell_type": "code",
   "execution_count": 105,
   "metadata": {},
   "outputs": [
    {
     "name": "stdout",
     "output_type": "stream",
     "text": [
      "Fitting 5 folds for each of 10 candidates, totalling 50 fits\n"
     ]
    },
    {
     "name": "stderr",
     "output_type": "stream",
     "text": [
      "[Parallel(n_jobs=-1)]: Using backend LokyBackend with 4 concurrent workers.\n",
      "[Parallel(n_jobs=-1)]: Done  42 tasks      | elapsed:   44.5s\n",
      "[Parallel(n_jobs=-1)]: Done  50 out of  50 | elapsed:   47.9s finished\n"
     ]
    },
    {
     "data": {
      "text/plain": [
       "RandomizedSearchCV(cv=5, error_score=nan,\n",
       "                   estimator=RandomForestClassifier(bootstrap=True,\n",
       "                                                    ccp_alpha=0.0,\n",
       "                                                    class_weight=None,\n",
       "                                                    criterion='gini',\n",
       "                                                    max_depth=None,\n",
       "                                                    max_features='auto',\n",
       "                                                    max_leaf_nodes=None,\n",
       "                                                    max_samples=None,\n",
       "                                                    min_impurity_decrease=0.0,\n",
       "                                                    min_impurity_split=None,\n",
       "                                                    min_samples_leaf=1,\n",
       "                                                    min_samples_split=2,\n",
       "                                                    min_weight_fraction_leaf=0.0,\n",
       "                                                    n_estimators=100,\n",
       "                                                    n_jobs=None,\n",
       "                                                    oob_score=False,\n",
       "                                                    random_state=None,\n",
       "                                                    verbose=0,\n",
       "                                                    warm_start=False),\n",
       "                   iid='deprecated', n_iter=10, n_jobs=-1,\n",
       "                   param_distributions={'max_depth': [1, 3, 5],\n",
       "                                        'min_samples_leaf': [3, 6, 9],\n",
       "                                        'min_samples_split': [6, 12, 18],\n",
       "                                        'n_estimators': [3, 9, 27]},\n",
       "                   pre_dispatch='2*n_jobs', random_state=None, refit=True,\n",
       "                   return_train_score=False, scoring='recall', verbose=1)"
      ]
     },
     "execution_count": 105,
     "metadata": {},
     "output_type": "execute_result"
    }
   ],
   "source": [
    "model_RF_tuned.fit(X_train_OverSample, y_train_OverSample)"
   ]
  },
  {
   "cell_type": "code",
   "execution_count": 106,
   "metadata": {},
   "outputs": [
    {
     "data": {
      "text/plain": [
       "{'n_estimators': 9,\n",
       " 'min_samples_split': 12,\n",
       " 'min_samples_leaf': 3,\n",
       " 'max_depth': 3}"
      ]
     },
     "execution_count": 106,
     "metadata": {},
     "output_type": "execute_result"
    }
   ],
   "source": [
    "model_RF_tuned.best_params_"
   ]
  },
  {
   "cell_type": "code",
   "execution_count": 107,
   "metadata": {},
   "outputs": [
    {
     "name": "stdout",
     "output_type": "stream",
     "text": [
      "              precision    recall  f1-score   support\n",
      "\n",
      "           0       0.99      0.59      0.74     66880\n",
      "           1       0.25      0.98      0.40      9342\n",
      "\n",
      "    accuracy                           0.64     76222\n",
      "   macro avg       0.62      0.78      0.57     76222\n",
      "weighted avg       0.90      0.64      0.70     76222\n",
      "\n",
      "====================================================================================================\n"
     ]
    },
    {
     "data": {
      "image/png": "[encoded data removed]",
      "text/plain": [
       "<Figure size 432x288 with 2 Axes>"
      ]
     },
     "metadata": {},
     "output_type": "display_data"
    },
    {
     "name": "stdout",
     "output_type": "stream",
     "text": [
      "====================================================================================================\n"
     ]
    },
    {
     "data": {
      "text/html": [
       "<div>\n",
       "<style scoped>\n",
       "    .dataframe tbody tr th:only-of-type {\n",
       "        vertical-align: middle;\n",
       "    }\n",
       "\n",
       "    .dataframe tbody tr th {\n",
       "        vertical-align: top;\n",
       "    }\n",
       "\n",
       "    .dataframe thead th {\n",
       "        text-align: right;\n",
       "    }\n",
       "</style>\n",
       "<table border=\"1\" class=\"dataframe\">\n",
       "  <thead>\n",
       "    <tr style=\"text-align: right;\">\n",
       "      <th></th>\n",
       "      <th>Prediksi 1</th>\n",
       "      <th>Prediksi 0</th>\n",
       "    </tr>\n",
       "  </thead>\n",
       "  <tbody>\n",
       "    <tr>\n",
       "      <th>Aktual 1</th>\n",
       "      <td>9130</td>\n",
       "      <td>212</td>\n",
       "    </tr>\n",
       "    <tr>\n",
       "      <th>Aktual 0</th>\n",
       "      <td>27297</td>\n",
       "      <td>39583</td>\n",
       "    </tr>\n",
       "  </tbody>\n",
       "</table>\n",
       "</div>"
      ],
      "text/plain": [
       "          Prediksi 1  Prediksi 0\n",
       "Aktual 1        9130         212\n",
       "Aktual 0       27297       39583"
      ]
     },
     "execution_count": 107,
     "metadata": {},
     "output_type": "execute_result"
    }
   ],
   "source": [
    "#RF Tuned train\n",
    "RF_Pred_Tuned_Train = model_RF_tuned.predict(X_train_OverSample)\n",
    "acc_RF_Tune_Train = accuracy_score(y_train_OverSample, RF_Pred_Tuned_Train)\n",
    "prec_RF_Tune_Train = precision_score(y_train_OverSample, RF_Pred_Tuned_Train)\n",
    "rec_RF_Tune_Train = recall_score(y_train_OverSample, RF_Pred_Tuned_Train)\n",
    "f1_RF_Tune_Train = f1_score(y_train_OverSample, RF_Pred_Tuned_Train)\n",
    "\n",
    "#RF Tuned test\n",
    "RF_Pred_Tuned = model_RF_tuned.predict(X_test)\n",
    "acc_RF_Tune = accuracy_score(y_test, RF_Pred_Tuned)\n",
    "prec_RF_Tune = precision_score(y_test, RF_Pred_Tuned)\n",
    "rec_RF_Tune = recall_score(y_test, RF_Pred_Tuned)\n",
    "f1_RF_Tune = f1_score(y_test, RF_Pred_Tuned)\n",
    "\n",
    "print(classification_report(y_test, RF_Pred_Tuned))\n",
    "print (100*\"=\")\n",
    "\n",
    "cm = confusion_matrix(y_test, RF_Pred_Tuned, labels = [1,0])\n",
    "RF_cm = pd.DataFrame(data = cm,  columns = ['Prediksi 1', 'Prediksi 0'], index = ['Aktual 1', 'Aktual 0'])\n",
    "sns.heatmap(RF_cm, annot = True)\n",
    "plt.style.use('seaborn-whitegrid')\n",
    "plt.show()\n",
    "print(100*('='))\n",
    "RF_cm"
   ]
  },
  {
   "cell_type": "markdown",
   "metadata": {},
   "source": [
    "#### XGradient Boosting Tuned"
   ]
  },
  {
   "cell_type": "code",
   "execution_count": 114,
   "metadata": {},
   "outputs": [],
   "source": [
    "xgb_t = GradientBoostingClassifier()\n",
    "\n",
    "param_xgb = {\n",
    "    \"n_estimators\":[100, 150, 200]\n",
    "\n",
    "}\n",
    "model_XGB_tuned = RandomizedSearchCV(estimator=xgb_t, param_distributions= param_xgb, n_jobs= -1, cv= 5, verbose= 1, scoring= 'recall')"
   ]
  },
  {
   "cell_type": "code",
   "execution_count": 115,
   "metadata": {},
   "outputs": [
    {
     "name": "stdout",
     "output_type": "stream",
     "text": [
      "Fitting 5 folds for each of 3 candidates, totalling 15 fits\n"
     ]
    },
    {
     "name": "stderr",
     "output_type": "stream",
     "text": [
      "[Parallel(n_jobs=-1)]: Using backend LokyBackend with 4 concurrent workers.\n",
      "[Parallel(n_jobs=-1)]: Done  15 out of  15 | elapsed:  9.1min finished\n"
     ]
    },
    {
     "data": {
      "text/plain": [
       "RandomizedSearchCV(cv=5, error_score=nan,\n",
       "                   estimator=GradientBoostingClassifier(ccp_alpha=0.0,\n",
       "                                                        criterion='friedman_mse',\n",
       "                                                        init=None,\n",
       "                                                        learning_rate=0.1,\n",
       "                                                        loss='deviance',\n",
       "                                                        max_depth=3,\n",
       "                                                        max_features=None,\n",
       "                                                        max_leaf_nodes=None,\n",
       "                                                        min_impurity_decrease=0.0,\n",
       "                                                        min_impurity_split=None,\n",
       "                                                        min_samples_leaf=1,\n",
       "                                                        min_samples_split=2,\n",
       "                                                        min_weight_fraction_leaf=0.0,\n",
       "                                                        n_estimators=100,\n",
       "                                                        n_iter_no_change=None,\n",
       "                                                        presort='deprecated',\n",
       "                                                        random_state=None,\n",
       "                                                        subsample=1.0,\n",
       "                                                        tol=0.0001,\n",
       "                                                        validation_fraction=0.1,\n",
       "                                                        verbose=0,\n",
       "                                                        warm_start=False),\n",
       "                   iid='deprecated', n_iter=10, n_jobs=-1,\n",
       "                   param_distributions={'n_estimators': [100, 150, 200]},\n",
       "                   pre_dispatch='2*n_jobs', random_state=None, refit=True,\n",
       "                   return_train_score=False, scoring='recall', verbose=1)"
      ]
     },
     "execution_count": 115,
     "metadata": {},
     "output_type": "execute_result"
    }
   ],
   "source": [
    "model_XGB_tuned.fit(X_train_OverSample, y_train_OverSample)"
   ]
  },
  {
   "cell_type": "code",
   "execution_count": 116,
   "metadata": {},
   "outputs": [
    {
     "data": {
      "text/plain": [
       "{'n_estimators': 100}"
      ]
     },
     "execution_count": 116,
     "metadata": {},
     "output_type": "execute_result"
    }
   ],
   "source": [
    "model_XGB_tuned.best_params_"
   ]
  },
  {
   "cell_type": "code",
   "execution_count": 117,
   "metadata": {},
   "outputs": [
    {
     "name": "stdout",
     "output_type": "stream",
     "text": [
      "              precision    recall  f1-score   support\n",
      "\n",
      "           0       0.99      0.59      0.74     66880\n",
      "           1       0.25      0.98      0.40      9342\n",
      "\n",
      "    accuracy                           0.64     76222\n",
      "   macro avg       0.62      0.78      0.57     76222\n",
      "weighted avg       0.90      0.64      0.70     76222\n",
      "\n",
      "====================================================================================================\n"
     ]
    },
    {
     "data": {
      "image/png": "[encoded data removed]",
      "text/plain": [
       "<Figure size 432x288 with 2 Axes>"
      ]
     },
     "metadata": {},
     "output_type": "display_data"
    },
    {
     "name": "stdout",
     "output_type": "stream",
     "text": [
      "====================================================================================================\n"
     ]
    },
    {
     "data": {
      "text/html": [
       "<div>\n",
       "<style scoped>\n",
       "    .dataframe tbody tr th:only-of-type {\n",
       "        vertical-align: middle;\n",
       "    }\n",
       "\n",
       "    .dataframe tbody tr th {\n",
       "        vertical-align: top;\n",
       "    }\n",
       "\n",
       "    .dataframe thead th {\n",
       "        text-align: right;\n",
       "    }\n",
       "</style>\n",
       "<table border=\"1\" class=\"dataframe\">\n",
       "  <thead>\n",
       "    <tr style=\"text-align: right;\">\n",
       "      <th></th>\n",
       "      <th>Prediksi 1</th>\n",
       "      <th>Prediksi 0</th>\n",
       "    </tr>\n",
       "  </thead>\n",
       "  <tbody>\n",
       "    <tr>\n",
       "      <th>Aktual 1</th>\n",
       "      <td>9125</td>\n",
       "      <td>217</td>\n",
       "    </tr>\n",
       "    <tr>\n",
       "      <th>Aktual 0</th>\n",
       "      <td>27217</td>\n",
       "      <td>39663</td>\n",
       "    </tr>\n",
       "  </tbody>\n",
       "</table>\n",
       "</div>"
      ],
      "text/plain": [
       "          Prediksi 1  Prediksi 0\n",
       "Aktual 1        9125         217\n",
       "Aktual 0       27217       39663"
      ]
     },
     "execution_count": 117,
     "metadata": {},
     "output_type": "execute_result"
    }
   ],
   "source": [
    "XGB_Pred_Tuned_train = model_XGB_tuned.predict(X_train_OverSample)\n",
    "acc_XGB_Tune_train = accuracy_score(y_train_OverSample, XGB_Pred_Tuned_train)\n",
    "prec_XGB_Tune_train = precision_score(y_train_OverSample, XGB_Pred_Tuned_train)\n",
    "rec_XGB_Tune_train = recall_score(y_train_OverSample, XGB_Pred_Tuned_train)\n",
    "f1_XGB_Tune_train = f1_score(y_train_OverSample, XGB_Pred_Tuned_train)\n",
    "\n",
    "XGB_Pred_Tuned = model_XGB_tuned.predict(X_test)\n",
    "acc_XGB_Tune = accuracy_score(y_test, XGB_Pred_Tuned)\n",
    "prec_XGB_Tune = precision_score(y_test, XGB_Pred_Tuned)\n",
    "rec_XGB_Tune = recall_score(y_test, XGB_Pred_Tuned)\n",
    "f1_XGB_Tune = f1_score(y_test, XGB_Pred_Tuned)\n",
    "\n",
    "print(classification_report(y_test, XGB_Pred_Tuned))\n",
    "print (100*\"=\")\n",
    "\n",
    "cm = confusion_matrix(y_test, XGB_Pred_Tuned, labels = [1,0])\n",
    "XGB_cm = pd.DataFrame(data = cm,  columns = ['Prediksi 1', 'Prediksi 0'], index = ['Aktual 1', 'Aktual 0'])\n",
    "sns.heatmap(RF_cm, annot = True)\n",
    "plt.style.use('seaborn-whitegrid')\n",
    "plt.show()\n",
    "print(100*('='))\n",
    "XGB_cm"
   ]
  },
  {
   "cell_type": "code",
   "execution_count": 118,
   "metadata": {},
   "outputs": [
    {
     "name": "stdout",
     "output_type": "stream",
     "text": [
      " Hasil Base Model \n"
     ]
    },
    {
     "data": {
      "text/html": [
       "<div>\n",
       "<style scoped>\n",
       "    .dataframe tbody tr th:only-of-type {\n",
       "        vertical-align: middle;\n",
       "    }\n",
       "\n",
       "    .dataframe tbody tr th {\n",
       "        vertical-align: top;\n",
       "    }\n",
       "\n",
       "    .dataframe thead th {\n",
       "        text-align: right;\n",
       "    }\n",
       "</style>\n",
       "<table border=\"1\" class=\"dataframe\">\n",
       "  <thead>\n",
       "    <tr style=\"text-align: right;\">\n",
       "      <th></th>\n",
       "      <th>Logreg Train</th>\n",
       "      <th>Logreg Test</th>\n",
       "      <th>KNN Train</th>\n",
       "      <th>KNN Test</th>\n",
       "      <th>Random Forest Train</th>\n",
       "      <th>Random Forest Test</th>\n",
       "      <th>XGB Train</th>\n",
       "      <th>XGB Test</th>\n",
       "    </tr>\n",
       "  </thead>\n",
       "  <tbody>\n",
       "    <tr>\n",
       "      <th>Accuracy</th>\n",
       "      <td>0.783411</td>\n",
       "      <td>0.640091</td>\n",
       "      <td>0.763053</td>\n",
       "      <td>0.705544</td>\n",
       "      <td>0.797863</td>\n",
       "      <td>0.684251</td>\n",
       "      <td>0.784397</td>\n",
       "      <td>0.640078</td>\n",
       "    </tr>\n",
       "    <tr>\n",
       "      <th>Precision</th>\n",
       "      <td>0.705015</td>\n",
       "      <td>0.250943</td>\n",
       "      <td>0.727566</td>\n",
       "      <td>0.272945</td>\n",
       "      <td>0.728776</td>\n",
       "      <td>0.272685</td>\n",
       "      <td>0.705363</td>\n",
       "      <td>0.251087</td>\n",
       "    </tr>\n",
       "    <tr>\n",
       "      <th>Recall</th>\n",
       "      <td>0.974608</td>\n",
       "      <td>0.975594</td>\n",
       "      <td>0.841022</td>\n",
       "      <td>0.842967</td>\n",
       "      <td>0.948855</td>\n",
       "      <td>0.945408</td>\n",
       "      <td>0.976821</td>\n",
       "      <td>0.976772</td>\n",
       "    </tr>\n",
       "    <tr>\n",
       "      <th>F1-Score</th>\n",
       "      <td>0.818176</td>\n",
       "      <td>0.399203</td>\n",
       "      <td>0.780191</td>\n",
       "      <td>0.412368</td>\n",
       "      <td>0.824380</td>\n",
       "      <td>0.423282</td>\n",
       "      <td>0.819189</td>\n",
       "      <td>0.399483</td>\n",
       "    </tr>\n",
       "  </tbody>\n",
       "</table>\n",
       "</div>"
      ],
      "text/plain": [
       "           Logreg Train  Logreg Test  KNN Train  KNN Test  \\\n",
       "Accuracy       0.783411     0.640091   0.763053  0.705544   \n",
       "Precision      0.705015     0.250943   0.727566  0.272945   \n",
       "Recall         0.974608     0.975594   0.841022  0.842967   \n",
       "F1-Score       0.818176     0.399203   0.780191  0.412368   \n",
       "\n",
       "           Random Forest Train  Random Forest Test  XGB Train  XGB Test  \n",
       "Accuracy              0.797863            0.684251   0.784397  0.640078  \n",
       "Precision             0.728776            0.272685   0.705363  0.251087  \n",
       "Recall                0.948855            0.945408   0.976821  0.976772  \n",
       "F1-Score              0.824380            0.423282   0.819189  0.399483  "
      ]
     },
     "execution_count": 118,
     "metadata": {},
     "output_type": "execute_result"
    }
   ],
   "source": [
    "print(\" Hasil Base Model tanpa Tuning \")\n",
    "data = {\n",
    "    \"Logreg Train\" : [acc_logreg_Train, prec_logreg_Train, recall_logreg_Train, f1_logreg_Train],    \n",
    "    \"Logreg Test\" : [acc_logreg, prec_logreg, recall_logreg, f1_logreg],\n",
    "    \"KNN Train\" : [acc_KNN_Train, prec_KNN_Train, recall_KNN_Train, f1_KNN_Train],\n",
    "    \"KNN Test\" : [acc_KNN, prec_KNN, recall_KNN, f1_KNN],\n",
    "    \"Random Forest Train\" : [acc_RF_Train, prec_RF_Train, recall_RF_Train, f1_RF_Train],    \n",
    "    \"Random Forest Test\" : [acc_RF, prec_RF, recall_RF, f1_RF],\n",
    "    \"XGB Train\": [acc_XGB_Train, prec_XGB_Train, recall_XGB_Train, f1_XGB_Train],\n",
    "    \"XGB Test\": [acc_XGB, prec_XGB, recall_XGB, f1_XGB]\n",
    "}\n",
    "eva = pd.DataFrame(data=data, index =['Accuracy', 'Precision', 'Recall', 'F1-Score'])\n",
    "eva\n"
   ]
  },
  {
   "cell_type": "code",
   "execution_count": 119,
   "metadata": {},
   "outputs": [
    {
     "data": {
      "text/html": [
       "<div>\n",
       "<style scoped>\n",
       "    .dataframe tbody tr th:only-of-type {\n",
       "        vertical-align: middle;\n",
       "    }\n",
       "\n",
       "    .dataframe tbody tr th {\n",
       "        vertical-align: top;\n",
       "    }\n",
       "\n",
       "    .dataframe thead th {\n",
       "        text-align: right;\n",
       "    }\n",
       "</style>\n",
       "<table border=\"1\" class=\"dataframe\">\n",
       "  <thead>\n",
       "    <tr style=\"text-align: right;\">\n",
       "      <th></th>\n",
       "      <th>Logreg Train Tuned</th>\n",
       "      <th>Logreg Test Tuned</th>\n",
       "      <th>KNN Train Tuned</th>\n",
       "      <th>KNN Test Tuned</th>\n",
       "      <th>Random Forest Train Tuned</th>\n",
       "      <th>Random Forest Test Tuned</th>\n",
       "      <th>XGB Train Tuned</th>\n",
       "      <th>XGB Test Tuned</th>\n",
       "    </tr>\n",
       "  </thead>\n",
       "  <tbody>\n",
       "    <tr>\n",
       "      <th>Accuracy</th>\n",
       "      <td>0.784004</td>\n",
       "      <td>0.640209</td>\n",
       "      <td>0.782474</td>\n",
       "      <td>0.673992</td>\n",
       "      <td>0.784005</td>\n",
       "      <td>0.639094</td>\n",
       "      <td>0.784397</td>\n",
       "      <td>0.640078</td>\n",
       "    </tr>\n",
       "    <tr>\n",
       "      <th>Precision</th>\n",
       "      <td>0.705285</td>\n",
       "      <td>0.251074</td>\n",
       "      <td>0.719392</td>\n",
       "      <td>0.263562</td>\n",
       "      <td>0.704838</td>\n",
       "      <td>0.250638</td>\n",
       "      <td>0.705363</td>\n",
       "      <td>0.251087</td>\n",
       "    </tr>\n",
       "    <tr>\n",
       "      <th>Recall</th>\n",
       "      <td>0.975733</td>\n",
       "      <td>0.976129</td>\n",
       "      <td>0.926238</td>\n",
       "      <td>0.925177</td>\n",
       "      <td>0.977249</td>\n",
       "      <td>0.977307</td>\n",
       "      <td>0.976821</td>\n",
       "      <td>0.976772</td>\n",
       "    </tr>\n",
       "    <tr>\n",
       "      <th>F1-Score</th>\n",
       "      <td>0.818754</td>\n",
       "      <td>0.399413</td>\n",
       "      <td>0.809816</td>\n",
       "      <td>0.410253</td>\n",
       "      <td>0.818985</td>\n",
       "      <td>0.398960</td>\n",
       "      <td>0.819189</td>\n",
       "      <td>0.399483</td>\n",
       "    </tr>\n",
       "  </tbody>\n",
       "</table>\n",
       "</div>"
      ],
      "text/plain": [
       "           Logreg Train Tuned  Logreg Test Tuned  KNN Train Tuned  \\\n",
       "Accuracy             0.784004           0.640209         0.782474   \n",
       "Precision            0.705285           0.251074         0.719392   \n",
       "Recall               0.975733           0.976129         0.926238   \n",
       "F1-Score             0.818754           0.399413         0.809816   \n",
       "\n",
       "           KNN Test Tuned  Random Forest Train Tuned  \\\n",
       "Accuracy         0.673992                   0.784005   \n",
       "Precision        0.263562                   0.704838   \n",
       "Recall           0.925177                   0.977249   \n",
       "F1-Score         0.410253                   0.818985   \n",
       "\n",
       "           Random Forest Test Tuned  XGB Train Tuned  XGB Test Tuned  \n",
       "Accuracy                   0.639094         0.784397        0.640078  \n",
       "Precision                  0.250638         0.705363        0.251087  \n",
       "Recall                     0.977307         0.976821        0.976772  \n",
       "F1-Score                   0.398960         0.819189        0.399483  "
      ]
     },
     "execution_count": 119,
     "metadata": {},
     "output_type": "execute_result"
    }
   ],
   "source": [
    "dataTuning = {\n",
    "    \"Logreg Train Tuned\" : [acc_LogRegTune_Train, prec_LogRegTune_Train, rec_LogRegTune_Train, f1_LogRegTune_Train],    \n",
    "    \"Logreg Test Tuned\" : [acc_LogRegTune, prec_LogRegTune, rec_LogRegTune, f1_LogRegTune],\n",
    "    \"KNN Train Tuned\" : [acc_KNN_Tune_Train, prec_KNN_Tune_Train, rec_KNN_Tune_Train, f1_KNN_Tune_Train],\n",
    "    \"KNN Test Tuned\" : [acc_KNN_Tune, prec_KNN_Tune, rec_KNN_Tune, f1_KNN_Tune],\n",
    "    \"Random Forest Train Tuned\" : [acc_RF_Tune_Train, prec_RF_Tune_Train, rec_RF_Tune_Train, f1_RF_Tune_Train],    \n",
    "    \"Random Forest Test Tuned\" : [acc_RF_Tune, prec_RF_Tune, rec_RF_Tune, f1_RF_Tune],\n",
    "    \"XGB Train Tuned\": [acc_XGB_Tune_train, prec_XGB_Tune_train, rec_XGB_Tune_train, f1_XGB_Tune_train],\n",
    "    \"XGB Test Tuned\": [acc_XGB_Tune, prec_XGB_Tune, rec_XGB_Tune, f1_XGB_Tune]\n",
    "}\n",
    "evaTuning = pd.DataFrame(data=dataTuning, index =['Accuracy', 'Precision', 'Recall', 'F1-Score'])\n",
    "evaTuning\n"
   ]
  },
  {
   "cell_type": "markdown",
   "metadata": {},
   "source": [
    "### Conclusion \n"
   ]
  },
  {
   "cell_type": "markdown",
   "metadata": {},
   "source": [
    "#### Eda"
   ]
  },
  {
   "cell_type": "markdown",
   "metadata": {},
   "source": [
    "- Dari Total pelanggan Asuransi kesehatan, yang tertarik untuk membeli asuransi kendaraan ada sebanyak 12.25%\n",
    " dengan Pria sebanyak 7.48%\n",
    "- Kebanyakan yang tertarik untuk membeli Asuransi Kendaraan adalah orang yang kendaraanya pernah mengalami kecelakaan dengan persentase 12%\n",
    "- Persentase Orang yang tertarik untuk membeli asuransi kendaraan adalah orang yang usianya berada dirange 36-45 Tahun"
   ]
  },
  {
   "cell_type": "markdown",
   "metadata": {},
   "source": [
    "#### Machine Learning"
   ]
  },
  {
   "cell_type": "markdown",
   "metadata": {},
   "source": [
    "- pada penggunaan Machine learning pada dataset ini, untuk melakukan handling imbalancenya menggunakan Randomize Oversampling .\n",
    "- Base Model yang dipaling akurat untuk memprediksi fraud dari dataset ini adalah hasil Tuning Random Forest"
   ]
  },
  {
   "cell_type": "code",
   "execution_count": null,
   "metadata": {},
   "outputs": [],
   "source": []
  }
 ],
 "metadata": {
  "kernelspec": {
   "display_name": "Python 3",
   "language": "python",
   "name": "python3"
  },
  "language_info": {
   "codemirror_mode": {
    "name": "ipython",
    "version": 3
   },
   "file_extension": ".py",
   "mimetype": "text/x-python",
   "name": "python",
   "nbconvert_exporter": "python",
   "pygments_lexer": "ipython3",
   "version": "3.7.6"
  }
 },
 "nbformat": 4,
 "nbformat_minor": 4
}
